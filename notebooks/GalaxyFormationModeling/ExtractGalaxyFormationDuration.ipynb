{
 "cells": [
  {
   "cell_type": "code",
   "execution_count": 1,
   "id": "7a345ce1",
   "metadata": {},
   "outputs": [
    {
     "ename": "FileNotFoundError",
     "evalue": "[Errno 2] No such file or directory: './data/_freefall_epochs_10.npy'",
     "output_type": "error",
     "traceback": [
      "\u001b[0;31m---------------------------------------------------------------------------\u001b[0m",
      "\u001b[0;31mFileNotFoundError\u001b[0m                         Traceback (most recent call last)",
      "Cell \u001b[0;32mIn[1], line 53\u001b[0m\n\u001b[1;32m     50\u001b[0m     plot_masses(masses_dict)\n\u001b[1;32m     51\u001b[0m     \u001b[38;5;28;01mreturn\u001b[39;00m masses_dict\n\u001b[0;32m---> 53\u001b[0m masses_dict \u001b[38;5;241m=\u001b[39m \u001b[43mprocess_and_plot\u001b[49m\u001b[43m(\u001b[49m\u001b[38;5;124;43m'\u001b[39;49m\u001b[38;5;124;43m./data\u001b[39;49m\u001b[38;5;124;43m'\u001b[39;49m\u001b[43m)\u001b[49m\n",
      "Cell \u001b[0;32mIn[1], line 44\u001b[0m, in \u001b[0;36mprocess_and_plot\u001b[0;34m(directory)\u001b[0m\n\u001b[1;32m     42\u001b[0m \u001b[38;5;28;01mfor\u001b[39;00m filename \u001b[38;5;129;01min\u001b[39;00m filenames:\n\u001b[1;32m     43\u001b[0m     redshift \u001b[38;5;241m=\u001b[39m extract_redshift_from_filename(filename)\n\u001b[0;32m---> 44\u001b[0m     epochs \u001b[38;5;241m=\u001b[39m \u001b[43mnp\u001b[49m\u001b[38;5;241;43m.\u001b[39;49m\u001b[43mload\u001b[49m\u001b[43m(\u001b[49m\u001b[43mdirectory\u001b[49m\u001b[43m \u001b[49m\u001b[38;5;241;43m+\u001b[39;49m\u001b[43m \u001b[49m\u001b[38;5;124;43m\"\u001b[39;49m\u001b[38;5;124;43m/_freefall_epochs_\u001b[39;49m\u001b[38;5;124;43m\"\u001b[39;49m\u001b[38;5;241;43m+\u001b[39;49m\u001b[43m \u001b[49m\u001b[38;5;28;43mstr\u001b[39;49m\u001b[43m(\u001b[49m\u001b[43mredshift\u001b[49m\u001b[43m)\u001b[49m\u001b[43m \u001b[49m\u001b[38;5;241;43m+\u001b[39;49m\u001b[43m \u001b[49m\u001b[38;5;124;43m'\u001b[39;49m\u001b[38;5;124;43m.npy\u001b[39;49m\u001b[38;5;124;43m'\u001b[39;49m\u001b[43m)\u001b[49m\n\u001b[1;32m     45\u001b[0m     epochs \u001b[38;5;241m=\u001b[39m epochs \u001b[38;5;241m-\u001b[39m epochs[\u001b[38;5;241m0\u001b[39m]\n\u001b[1;32m     46\u001b[0m     masses \u001b[38;5;241m=\u001b[39m sum_masses_from_file(os\u001b[38;5;241m.\u001b[39mpath\u001b[38;5;241m.\u001b[39mjoin(directory, filename))\n",
      "File \u001b[0;32m/myvenv/lib/python3.11/site-packages/numpy/lib/_npyio_impl.py:451\u001b[0m, in \u001b[0;36mload\u001b[0;34m(file, mmap_mode, allow_pickle, fix_imports, encoding, max_header_size)\u001b[0m\n\u001b[1;32m    449\u001b[0m     own_fid \u001b[38;5;241m=\u001b[39m \u001b[38;5;28;01mFalse\u001b[39;00m\n\u001b[1;32m    450\u001b[0m \u001b[38;5;28;01melse\u001b[39;00m:\n\u001b[0;32m--> 451\u001b[0m     fid \u001b[38;5;241m=\u001b[39m stack\u001b[38;5;241m.\u001b[39menter_context(\u001b[38;5;28;43mopen\u001b[39;49m\u001b[43m(\u001b[49m\u001b[43mos\u001b[49m\u001b[38;5;241;43m.\u001b[39;49m\u001b[43mfspath\u001b[49m\u001b[43m(\u001b[49m\u001b[43mfile\u001b[49m\u001b[43m)\u001b[49m\u001b[43m,\u001b[49m\u001b[43m \u001b[49m\u001b[38;5;124;43m\"\u001b[39;49m\u001b[38;5;124;43mrb\u001b[39;49m\u001b[38;5;124;43m\"\u001b[39;49m\u001b[43m)\u001b[49m)\n\u001b[1;32m    452\u001b[0m     own_fid \u001b[38;5;241m=\u001b[39m \u001b[38;5;28;01mTrue\u001b[39;00m\n\u001b[1;32m    454\u001b[0m \u001b[38;5;66;03m# Code to distinguish from NumPy binary files and pickles.\u001b[39;00m\n",
      "\u001b[0;31mFileNotFoundError\u001b[0m: [Errno 2] No such file or directory: './data/_freefall_epochs_10.npy'"
     ]
    }
   ],
   "source": [
    "import os\n",
    "import numpy as np\n",
    "import matplotlib.pyplot as plt\n",
    "\n",
    "\n",
    "def get_files_with_pattern(directory, pattern):\n",
    "    files = [f for f in os.listdir(directory) if pattern in f]\n",
    "    \n",
    "    # Sort based on the extracted redshift value from the filename\n",
    "    files_sorted = sorted(files, key=lambda x: int(x.split('_')[-1].split('.')[0]))\n",
    "    \n",
    "    return files_sorted\n",
    "\n",
    "\n",
    "def extract_redshift_from_filename(filename):\n",
    "    return int(filename.split('_')[-1].split('.')[0])\n",
    "\n",
    "def sum_masses_from_file(filename):\n",
    "    data = np.load(filename)\n",
    "    totalmasses = np.sum(data, axis=(1,2))\n",
    "    massOnPlane = data[:,:,50]\n",
    "    sumMassOnPlane = np.sum(massOnPlane, axis=1)/totalmasses\n",
    "    return sumMassOnPlane # Summing over the 'radius' and 'elevation' axes\n",
    "\n",
    "def plot_masses(masses_dict):\n",
    "    plt.figure(figsize=(12,6))\n",
    "    for redshift, masses in masses_dict.items():\n",
    "        plt.plot(masses[0][:]/1e6,masses[1][:], label=f'Redshift: {redshift}')\n",
    "    plt.legend(loc='lower right')\n",
    "    plt.xlim(0,7)\n",
    "    plt.ylim(0,1.01)\n",
    "    plt.xlabel('Galaxy Formation (million years)')\n",
    "    plt.ylabel('Normalized Total Mass on the Galaxy Plane')\n",
    "    plt.title('Total Mass vs Epoch for Different Birth Redshifts')\n",
    "    plt.savefig(\"./Figures/FreeFrallGalaxyFormation.png\")\n",
    "    plt.show()\n",
    "\n",
    "def process_and_plot(directory):\n",
    "    filenames = get_files_with_pattern(directory, '_freefall_all_current_masses_')\n",
    "    \n",
    "    masses_dict = {}  # To store summed masses for each redshift\n",
    "    for filename in filenames:\n",
    "        redshift = extract_redshift_from_filename(filename)\n",
    "        epochs = np.load(directory + \"/_freefall_epochs_\"+ str(redshift) + '.npy')\n",
    "        epochs = epochs - epochs[0]\n",
    "        masses = sum_masses_from_file(os.path.join(directory, filename))\n",
    "        masses_dict[redshift] = (epochs,masses)\n",
    "\n",
    "    # print(masses_dict[7][0].shape)\n",
    "    plot_masses(masses_dict)\n",
    "    return masses_dict\n",
    "\n",
    "masses_dict = process_and_plot('./data')\n"
   ]
  },
  {
   "cell_type": "code",
   "execution_count": 2,
   "id": "268b27ba",
   "metadata": {},
   "outputs": [
    {
     "ename": "NameError",
     "evalue": "name 'masses_dict' is not defined",
     "output_type": "error",
     "traceback": [
      "\u001b[0;31m---------------------------------------------------------------------------\u001b[0m",
      "\u001b[0;31mNameError\u001b[0m                                 Traceback (most recent call last)",
      "Cell \u001b[0;32mIn[2], line 19\u001b[0m\n\u001b[1;32m     16\u001b[0m galaxy_formation_time \u001b[38;5;241m=\u001b[39m {}\n\u001b[1;32m     17\u001b[0m \u001b[38;5;28;01mfor\u001b[39;00m z \u001b[38;5;129;01min\u001b[39;00m np\u001b[38;5;241m.\u001b[39marange(\u001b[38;5;241m4\u001b[39m,\u001b[38;5;241m11\u001b[39m):\n\u001b[1;32m     18\u001b[0m     \u001b[38;5;66;03m# Fit the data to the sigmoid function\u001b[39;00m\n\u001b[0;32m---> 19\u001b[0m     a10 \u001b[38;5;241m=\u001b[39m \u001b[43mmasses_dict\u001b[49m[z]\n\u001b[1;32m     20\u001b[0m     x \u001b[38;5;241m=\u001b[39m a10[\u001b[38;5;241m0\u001b[39m]\u001b[38;5;241m/\u001b[39m\u001b[38;5;241m1E6\u001b[39m\n\u001b[1;32m     21\u001b[0m     y \u001b[38;5;241m=\u001b[39m a10[\u001b[38;5;241m1\u001b[39m]\n",
      "\u001b[0;31mNameError\u001b[0m: name 'masses_dict' is not defined"
     ]
    }
   ],
   "source": [
    "import numpy as np\n",
    "from scipy.optimize import curve_fit\n",
    "import matplotlib.pyplot as plt\n",
    "\n",
    "# Define the sigmoid function\n",
    "def sigmoid(x, x0, b, a, c):\n",
    "    return a / (1.0 + np.exp(-b * (x - x0))) + c\n",
    "\n",
    "# Simulate some data (You have your masses data)\n",
    "# x = np.linspace(-10, 10, 100)\n",
    "# y = 1 / (1 + np.exp(-x)) + 0.05 * np.random.normal(size=x.size)\n",
    "\n",
    "# Your data:\n",
    "# x = epochs for some redshift\n",
    "# y = masses for the same redshift\n",
    "galaxy_formation_time = {}\n",
    "for z in np.arange(4,11):\n",
    "    # Fit the data to the sigmoid function\n",
    "    a10 = masses_dict[z]\n",
    "    x = a10[0]/1E6\n",
    "    y = a10[1]\n",
    "    params, covariance = curve_fit(sigmoid, x, y, p0=[np.median(x), 1, 1,0])\n",
    "\n",
    "    # Extract the galaxy formation time (x0 parameter)\n",
    "    galaxy_formation_time[z] = (z, 14.01/(1+z), params[0])\n",
    "\n",
    "    print(f\"For redshift {z}, galaxy formation time: {params[0]:.2f}\")\n",
    "\n",
    "    # Plot the data and the fit\n",
    "    plt.scatter(x, y, label='Data')\n",
    "    plt.plot(x, sigmoid(x, *params), color='red', label='Fitted Sigmoid')\n",
    "    plt.legend()\n",
    "    plt.show()\n",
    "\n",
    "# Convert the dictionary to a DataFrame\n",
    "import pandas as pd\n",
    "df = pd.DataFrame.from_dict(galaxy_formation_time, orient='index', columns=[\"redshift\", \"Epoch\", \"FormationTime\"])\n",
    "\n",
    "# Plot the formation time vs. epoch\n",
    "ax = df.plot(x=\"Epoch\", y=\"FormationTime\", marker='o', linestyle='solid', legend=False)  # linestyle='' ensures only points are plotted\n",
    "plt.xlabel('Epoch')\n",
    "plt.ylabel('Galaxy Formation Time')\n",
    "plt.title('Galaxy Formation Time vs. Epoch')\n",
    "\n",
    "# Annotate each point with its redshift\n",
    "for idx, row in df.iterrows():\n",
    "    ax.annotate(f\"{row['redshift']:.1f}\", (row['Epoch'], row['FormationTime']), fontsize=9, xytext=(3,3), textcoords='offset points')\n",
    "plt.savefig(\"./Figures/FreeFrallGalaxyFormationFittedTime.png\")\n",
    "plt.show()"
   ]
  },
  {
   "cell_type": "code",
   "execution_count": null,
   "id": "89cae8b3",
   "metadata": {},
   "outputs": [],
   "source": []
  }
 ],
 "metadata": {
  "kernelspec": {
   "display_name": "HU_Env",
   "language": "python",
   "name": "myvenv"
  },
  "language_info": {
   "codemirror_mode": {
    "name": "ipython",
    "version": 3
   },
   "file_extension": ".py",
   "mimetype": "text/x-python",
   "name": "python",
   "nbconvert_exporter": "python",
   "pygments_lexer": "ipython3",
   "version": "3.11.11"
  }
 },
 "nbformat": 4,
 "nbformat_minor": 5
}
