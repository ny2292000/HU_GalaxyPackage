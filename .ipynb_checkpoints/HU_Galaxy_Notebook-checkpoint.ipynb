{
 "cells": [
  {
   "cell_type": "code",
   "execution_count": 1,
   "id": "123ee659",
   "metadata": {},
   "outputs": [
    {
     "ename": "ImportError",
     "evalue": "libtorch.so: cannot open shared object file: No such file or directory",
     "output_type": "error",
     "traceback": [
      "\u001b[0;31m---------------------------------------------------------------------------\u001b[0m",
      "\u001b[0;31mImportError\u001b[0m                               Traceback (most recent call last)",
      "Cell \u001b[0;32mIn[1], line 2\u001b[0m\n\u001b[1;32m      1\u001b[0m \u001b[38;5;28;01mimport\u001b[39;00m \u001b[38;5;21;01mnumpy\u001b[39;00m \u001b[38;5;28;01mas\u001b[39;00m \u001b[38;5;21;01mnp\u001b[39;00m\n\u001b[0;32m----> 2\u001b[0m \u001b[38;5;28;01mfrom\u001b[39;00m \u001b[38;5;21;01mhugalaxy\u001b[39;00m \u001b[38;5;28;01mimport\u001b[39;00m GalaxyWrapper, calculate_mass, plotRotationCurve, density_wrapper, HU_Galaxy_GalaxyWrapper\n\u001b[1;32m      4\u001b[0m m33_rotational_curve \u001b[38;5;241m=\u001b[39m np\u001b[38;5;241m.\u001b[39marray( [\n\u001b[1;32m      5\u001b[0m     [\u001b[38;5;241m0.0\u001b[39m, \u001b[38;5;241m0.0\u001b[39m],\n\u001b[1;32m      6\u001b[0m     [\u001b[38;5;241m1508.7187\u001b[39m, \u001b[38;5;241m38.674137\u001b[39m],\n\u001b[0;32m   (...)\u001b[0m\n\u001b[1;32m     25\u001b[0m     [\u001b[38;5;241m50212.285\u001b[39m, \u001b[38;5;241m132.84966\u001b[39m]\n\u001b[1;32m     26\u001b[0m ])\n\u001b[1;32m     28\u001b[0m M33_Distance \u001b[38;5;241m=\u001b[39m \u001b[38;5;241m3.2E6\u001b[39m\n",
      "\u001b[0;31mImportError\u001b[0m: libtorch.so: cannot open shared object file: No such file or directory"
     ]
    }
   ],
   "source": [
    "import numpy as np\n",
    "from hugalaxy import GalaxyWrapper, calculate_mass, plotRotationCurve, density_wrapper, HU_Galaxy_GalaxyWrapper\n",
    "\n",
    "m33_rotational_curve = np.array( [\n",
    "    [0.0, 0.0],\n",
    "    [1508.7187, 38.674137],\n",
    "    [2873.3889, 55.65067],\n",
    "    [4116.755, 67.91063],\n",
    "    [5451.099, 79.22689],\n",
    "    [6846.0957, 85.01734],\n",
    "    [8089.462, 88.38242],\n",
    "    [9393.48, 92.42116],\n",
    "    [10727.824, 95.11208],\n",
    "    [11880.212, 98.342697],\n",
    "    [13275.208, 99.82048],\n",
    "    [14609.553, 102.10709],\n",
    "    [18521.607, 104.25024],\n",
    "    [22403.336, 107.60643],\n",
    "    [26406.369, 115.40966],\n",
    "    [30379.076, 116.87875],\n",
    "    [34382.107, 116.05664],\n",
    "    [38354.813, 117.93005],\n",
    "    [42266.87, 121.42091],\n",
    "    [46300.227, 128.55017],\n",
    "    [50212.285, 132.84966]\n",
    "])\n",
    "\n",
    "M33_Distance = 3.2E6\n",
    "Radius_Universe_4D = 14.03E9\n",
    "redshift = M33_Distance / (Radius_Universe_4D - M33_Distance)\n",
    "nr = 300\n",
    "nz = 100\n",
    "ntheta = 180\n",
    "nr_sampling = 103\n",
    "nz_sampling = 104\n",
    "R_max = 50000.0\n",
    "# x0 = [1.844837e+01,4.740177e-04,1.457439e-01,2.269586e-05,1.360023e+05]\n",
    "x0 =  [17.893718222852044, 0.00047066801240602216, 0.1462822060787215, 2.1683777520902726e-05, 138317.8152412921]\n",
    "rho_0, alpha_0, rho_1, alpha_1, h0 = x0\n",
    "GalaxyMass = 5E10\n",
    "M33 = GalaxyWrapper(GalaxyMass, rho_0, alpha_0, rho_1, alpha_1, h0, R_max, nr,\n",
    "                    nz, nr_sampling, nz_sampling, ntheta, redshift,GPU_ID=0, cuda=True)\n",
    "\n",
    "# M33.getGPU_ID()\n",
    "# M33.getCuda()\n",
    "# M33.setCuda(True)\n",
    "M33.read_galaxy_rotation_curve(m33_rotational_curve)\n",
    "v_sim = M33.simulate_rotation_curve()\n",
    "M33.print_density_parameters()"
   ]
  },
  {
   "cell_type": "code",
   "execution_count": 2,
   "id": "f20e3f53",
   "metadata": {},
   "outputs": [],
   "source": [
    "import hugalaxy as hh"
   ]
  },
  {
   "cell_type": "code",
   "execution_count": 3,
   "id": "07bdb1f3",
   "metadata": {},
   "outputs": [
    {
     "data": {
      "text/plain": [
       "['__name__',\n",
       " '__doc__',\n",
       " '__package__',\n",
       " '__loader__',\n",
       " '__spec__',\n",
       " '__path__',\n",
       " '__file__',\n",
       " '__cached__',\n",
       " '__builtins__',\n",
       " '__version__',\n",
       " 'plt',\n",
       " 'np',\n",
       " 'plotRotationCurve']"
      ]
     },
     "execution_count": 3,
     "metadata": {},
     "output_type": "execute_result"
    }
   ],
   "source": [
    "hh.__dir__()"
   ]
  },
  {
   "cell_type": "code",
   "execution_count": null,
   "id": "c6a6abca",
   "metadata": {},
   "outputs": [],
   "source": []
  },
  {
   "cell_type": "code",
   "execution_count": null,
   "id": "87dea5a6",
   "metadata": {},
   "outputs": [],
   "source": [
    "plotRotationCurve(M33)"
   ]
  },
  {
   "cell_type": "code",
   "execution_count": null,
   "id": "6cf25b96",
   "metadata": {},
   "outputs": [],
   "source": [
    "newz=5\n",
    "old_redshift = M33.redshift\n",
    "old_r = M33.r\n",
    "old_rotation_curve = M33.rotation_curve\n",
    "old_alpha_0 = M33.alpha_0\n",
    "old_alpha_1 = M33.alpha_1\n",
    "old_h0 = M33.h0\n",
    "\n",
    "rescalingFactor = (1+newz)/(1+old_redshift)\n",
    "M33.alpha_0=old_alpha_0 *rescalingFactor\n",
    "M33.alpha_1=old_alpha_1 * rescalingFactor\n",
    "M33.h0 = old_h0 * rescalingFactor**2\n",
    "M33.r = old_r/rescalingFactor\n",
    "M33.rotation_curve=np.array([old_rotation_curve[0,:]/rescalingFactor,old_rotation_curve[1,:]*rescalingFactor])\n",
    "plotRotationCurve(M33)\n",
    "\n"
   ]
  },
  {
   "cell_type": "code",
   "execution_count": null,
   "id": "71ab75c8",
   "metadata": {},
   "outputs": [],
   "source": [
    "M33.r"
   ]
  },
  {
   "cell_type": "code",
   "execution_count": null,
   "id": "a2d9a69f",
   "metadata": {},
   "outputs": [],
   "source": [
    "v_sim = M33.simulate_rotation_curve()\n",
    "M33.print_density_parameters()"
   ]
  },
  {
   "cell_type": "code",
   "execution_count": null,
   "id": "463e9456",
   "metadata": {},
   "outputs": [],
   "source": [
    "plotRotationCurve(M33)"
   ]
  },
  {
   "cell_type": "code",
   "execution_count": null,
   "id": "eef329a7",
   "metadata": {},
   "outputs": [],
   "source": []
  },
  {
   "cell_type": "code",
   "execution_count": null,
   "id": "116c5853",
   "metadata": {},
   "outputs": [],
   "source": [
    "M33.alpha_0=old_alpha_0\n",
    "M33.alpha_1=old_alpha_1 \n",
    "M33.h0 = old_h0 \n",
    "M33.r = old_r\n",
    "M33.rotation_curve=np.array([old_rotation_curve[0,:],old_rotation_curve[1,:]])\n",
    "plotRotationCurve(M33)"
   ]
  },
  {
   "cell_type": "code",
   "execution_count": null,
   "id": "b41e9cff",
   "metadata": {},
   "outputs": [],
   "source": []
  },
  {
   "cell_type": "code",
   "execution_count": null,
   "id": "4d579fba",
   "metadata": {},
   "outputs": [],
   "source": []
  },
  {
   "cell_type": "code",
   "execution_count": null,
   "id": "bc0f8b0c",
   "metadata": {},
   "outputs": [],
   "source": [
    "# initial guesses for the rescaled rotation curve at a different epoch defined by redshift newz\n",
    "x0 = np.array([M33.rho_0, alpha_0, M33.rho_1, alpha_1, h0])\n",
    "# rescaling rotational curve and r\n",
    "M33.r = M33.r/rescalingFactor\n",
    "rotation_curve_x = M33.rotation_curve[0,:]/rescalingFactor\n",
    "rotation_curve_v = M33.rotation_curve[1,:]*rescalingFactor\n",
    "M33.rotation_curve = np.array([[M33.rotation_curve[0,:]/rescalingFactor],[M33.rotation_curve[1,:]/rescalingFactor]])\n",
    "plotRotationCurve(M33)"
   ]
  },
  {
   "cell_type": "code",
   "execution_count": null,
   "id": "6fecc856",
   "metadata": {},
   "outputs": [],
   "source": [
    "M33.rotation_curve"
   ]
  },
  {
   "cell_type": "code",
   "execution_count": null,
   "id": "5da021ee",
   "metadata": {},
   "outputs": [],
   "source": []
  },
  {
   "cell_type": "code",
   "execution_count": null,
   "id": "764cae28",
   "metadata": {},
   "outputs": [],
   "source": [
    "\n",
    "\n",
    "\n",
    "M33.r = old_r\n",
    "M33.rotation_curve = old_rotation_curve\n",
    "M33.alpha_0 = old_alpha_0\n",
    "M33.alpha_1 = old_alpha_1\n",
    "M33.redshift = old_redshift"
   ]
  },
  {
   "cell_type": "code",
   "execution_count": null,
   "id": "68bec4da",
   "metadata": {},
   "outputs": [],
   "source": [
    "M33.rotation_curve, old_rotation_curve[0,:]"
   ]
  },
  {
   "cell_type": "code",
   "execution_count": null,
   "id": "10de2cc1",
   "metadata": {},
   "outputs": [],
   "source": []
  },
  {
   "cell_type": "code",
   "execution_count": null,
   "id": "6cc83819",
   "metadata": {},
   "outputs": [],
   "source": [
    "def stretch_space(M33, newz):\n",
    "    old_redshift = M33.redshift\n",
    "    old_r = M33.r\n",
    "    old_rotation_curve = M33.rotation_curve\n",
    "    old_alpha_0 = M33.alpha_0\n",
    "    old_alpha_1 = M33.alpha_1\n",
    "    old_h0 = M33.h0\n",
    "    rescalingFactor = (1+newz)/(1+old_redshift)\n",
    "    alpha_0=M33.alpha_0 *rescalingFactor\n",
    "    alpha_1=M33.alpha_1 * rescalingFactor\n",
    "    h0 = M33.h0 * rescalingFactor\n",
    "    # initial guesses for the rescaled rotation curve at a different epoch defined by redshift newz\n",
    "    x0 = np.array([M33.rho_0, alpha_0, M33.rho_1, alpha_1, h0])\n",
    "    # rescaling rotational curve and r\n",
    "    M33.r = M33.r/rescalingFactor\n",
    "    rotation_curve_x = M33.rotation_curve[:,0]/rescalingFactor\n",
    "    rotation_curve_v = M33.rotation_curve[:,1]*rescalingFactor\n",
    "    M33.rotation_curve = np.array([rotation_curve_x,rotation_curve_v])\n",
    "    plotRotationCurve(M33)\n",
    "    M33.r = old_r\n",
    "    M33.rotation_curve = old_rotation_curve\n",
    "    M33.alpha_0 = old_alpha_0\n",
    "    M33.alpha_1 = old_alpha_1\n",
    "    M33.redshift = old_redshift\n",
    "\n",
    "stretch_space(M33, newz=5)"
   ]
  },
  {
   "cell_type": "code",
   "execution_count": null,
   "id": "dd39f1fd",
   "metadata": {},
   "outputs": [],
   "source": [
    "import matplotlib.pyplot as plt\n",
    "plt.plot(M33.rotation_curve[0,:], M33.rotation_curve[1,:])\n",
    "plt.show()"
   ]
  },
  {
   "cell_type": "code",
   "execution_count": null,
   "id": "7fdacac4",
   "metadata": {},
   "outputs": [],
   "source": [
    "# initial guesses for the rescaled rotation curve at a different epoch defined by redshift newz\n",
    "x0 = np.array([M33.rho_0, alpha_0, M33.rho_1, alpha_1, h0])\n",
    "# rescaling rotational curve and r\n",
    "M33.r = M33.r/rescalingFactor\n",
    "rotation_curve_x = M33.rotation_curve[:,0]/rescalingFactor\n",
    "rotation_curve_v = M33.rotation_curve[:,1]*rescalingFactor\n",
    "M33.rotation_curve = np.array([rotation_curve_x,rotation_curve_v])\n",
    "plotRotationCurve(M33)"
   ]
  },
  {
   "cell_type": "code",
   "execution_count": null,
   "id": "22175b63",
   "metadata": {},
   "outputs": [],
   "source": []
  },
  {
   "cell_type": "code",
   "execution_count": null,
   "id": "b871ee74",
   "metadata": {},
   "outputs": [],
   "source": []
  },
  {
   "cell_type": "code",
   "execution_count": null,
   "id": "f0093a0d",
   "metadata": {},
   "outputs": [],
   "source": []
  },
  {
   "cell_type": "code",
   "execution_count": null,
   "id": "4090c4d8",
   "metadata": {},
   "outputs": [],
   "source": []
  },
  {
   "cell_type": "code",
   "execution_count": null,
   "id": "4784795f",
   "metadata": {},
   "outputs": [],
   "source": []
  },
  {
   "cell_type": "code",
   "execution_count": null,
   "id": "e196ae49",
   "metadata": {},
   "outputs": [],
   "source": []
  },
  {
   "cell_type": "code",
   "execution_count": null,
   "id": "877d777d",
   "metadata": {},
   "outputs": [],
   "source": []
  },
  {
   "cell_type": "code",
   "execution_count": null,
   "id": "845e7bc1",
   "metadata": {},
   "outputs": [],
   "source": []
  },
  {
   "cell_type": "code",
   "execution_count": null,
   "id": "6943d915",
   "metadata": {},
   "outputs": [],
   "source": []
  },
  {
   "cell_type": "code",
   "execution_count": null,
   "id": "fc35e61b",
   "metadata": {},
   "outputs": [],
   "source": []
  },
  {
   "cell_type": "code",
   "execution_count": null,
   "id": "d2538f3d",
   "metadata": {},
   "outputs": [],
   "source": [
    "v_sim = M33.simulate_rotation_curve()\n",
    "M33.print_density_parameters()\n"
   ]
  },
  {
   "cell_type": "code",
   "execution_count": null,
   "id": "de5727ad",
   "metadata": {},
   "outputs": [],
   "source": []
  },
  {
   "cell_type": "code",
   "execution_count": null,
   "id": "2847d290",
   "metadata": {},
   "outputs": [],
   "source": []
  },
  {
   "cell_type": "code",
   "execution_count": null,
   "id": "dc719607",
   "metadata": {},
   "outputs": [],
   "source": [
    "def simulatedRescaledRotationCurve(newz, M33):\n",
    "    # rescaling already optimized factors\n",
    "    oldz = M33.redshift\n",
    "    rescalingFactor = (1+newz)/(1+oldz)\n",
    "    alpha_0=M33.alpha_0 *rescalingFactor\n",
    "    alpha_1=M33.alpha_1 * rescalingFactor\n",
    "    h0 = M33.h0 * rescalingFactor\n",
    "    # initial guesses for the rescaled rotation curve at a different epoch defined by redshift newz\n",
    "    x0 = [M33.rho_0, alpha_0, M33.rho_1, alpha_1, h0]\n",
    "    # rescaling rotational curve and r\n",
    "    M33.set_r( np.array(M33.r / rescalingFactor) )\n",
    "    rotation_curve =np.array(M33.print_rotation_curve())\n",
    "    rotation_curve[:,0] = \n",
    "    M33.set_rotation_curve(rotation_curve)\n",
    "    \n",
    "    "
   ]
  },
  {
   "cell_type": "code",
   "execution_count": null,
   "id": "d2191173",
   "metadata": {},
   "outputs": [],
   "source": []
  },
  {
   "cell_type": "code",
   "execution_count": null,
   "id": "d7356364",
   "metadata": {},
   "outputs": [],
   "source": [
    "hugalaxy.__dir__()"
   ]
  },
  {
   "cell_type": "code",
   "execution_count": null,
   "id": "8748d652",
   "metadata": {},
   "outputs": [],
   "source": []
  },
  {
   "cell_type": "code",
   "execution_count": null,
   "id": "0b8e7b7a",
   "metadata": {},
   "outputs": [],
   "source": []
  },
  {
   "cell_type": "code",
   "execution_count": null,
   "id": "d1857582",
   "metadata": {},
   "outputs": [],
   "source": []
  },
  {
   "cell_type": "code",
   "execution_count": null,
   "id": "d0101878",
   "metadata": {},
   "outputs": [],
   "source": []
  },
  {
   "cell_type": "code",
   "execution_count": null,
   "id": "72c9c0d2",
   "metadata": {},
   "outputs": [],
   "source": [
    "epoch=100E6\n",
    "time_step_years = 10E6\n",
    "eta = 1/100\n",
    "temperature =7\n",
    "for i in np.arange(11):\n",
    "    current_masses = M33.DrudePropagator( redshift,  time_step_years,  eta,  temperature)\n",
    "    epoch += time_step_years\n"
   ]
  },
  {
   "cell_type": "code",
   "execution_count": null,
   "id": "193d9620",
   "metadata": {},
   "outputs": [],
   "source": []
  },
  {
   "cell_type": "code",
   "execution_count": null,
   "id": "08d1e3a8",
   "metadata": {},
   "outputs": [],
   "source": []
  },
  {
   "cell_type": "markdown",
   "id": "63b5ae1d-8fca-4f5c-b590-b5e613456ca6",
   "metadata": {},
   "source": [
    "In HU, the distance is given by\n",
    "$d(z) = R_0 \\frac{z}{(1+z)}$\n",
    "\n",
    "the 4D radius is given by:\n",
    "$R(z) = R_0 \\frac{1}{(1+z)}$\n",
    "\n",
    "where $R_0$ = 14.01 GLY\n",
    "$G(t) = G_0\\frac{R_0}{R(z)}$\n",
    "\n",
    "$G = G_0 (1+z)$\n",
    "\n",
    "Using Newtonian Dynamics while reversing time (having the average galaxy moving back in time and through the 4D spatial manifold), we get:\n",
    "$G(z)\\frac{M}{r(z)^2} = \\frac{v(z)^2}{r(z)}$\n",
    "\n",
    "r(z)=$G(z)\\frac{M}{v(z)^2}=G_0 (1+z)\\frac{M}{v(z)^2}$\n",
    "\n",
    "Since the angular size of a galaxy is roughly r(z)/d(z)\n",
    "\n",
    "AngularSize= $G_0 (1+z)\\frac{M}{v(z)^2}/(R_0\\frac{z}{(1+z)})= \\frac{G_0M(1+z)^2}{R_0  z v(z)^2} \\propto \\frac{1}{z}$\n",
    "\n",
    "This means that v(z) =$ v_0(1+z)$ which implies that $r(z) = r_0/(1+z)$\n",
    "\n",
    "where $R_0$ is the current 4D radius (14.01 GLY), and $v_0$ is the current tangential velocity of a body in orbit.\n",
    "\n",
    "So, as G varies, the radius of the orbits varies, and velocity adjusts to keep angular momentum constant. The resulting angular size z-dependency is $\\frac{1}{z} $as depicted in Kapahi’s data.\n",
    "\n",
    "**NOTICE THAT THIS IS NOT A SMALL RESULT. I DERIVED THE Z-DEPENDENCY OF THE ANGULAR SIZE (AN OBSERVABLE) IN AN EPOCH-DEPENDENT G. THIS HAS NEVER BEEN DONE, AND IT SUPPORTS MY THEORY AND DEBUNKS GENERAL RELATIVITY.**\n",
    "\n",
    "**JWST'S OBSERVATION OF HUGE GALAXIES IS THE RESULT OF INCORRECT GALAXY SIZE PREDICTIONS AND DISTRIBUTION DUE TO RIEMMANIAN GEOMETRY: NO IFS OR BUTS.**\n"
   ]
  },
  {
   "cell_type": "code",
   "execution_count": null,
   "id": "fb80223a",
   "metadata": {},
   "outputs": [],
   "source": []
  },
  {
   "cell_type": "code",
   "execution_count": null,
   "id": "b5d5b664",
   "metadata": {},
   "outputs": [],
   "source": []
  },
  {
   "cell_type": "code",
   "execution_count": null,
   "id": "f583508f",
   "metadata": {},
   "outputs": [],
   "source": []
  },
  {
   "cell_type": "code",
   "execution_count": null,
   "id": "ef749a58",
   "metadata": {},
   "outputs": [],
   "source": []
  },
  {
   "cell_type": "code",
   "execution_count": null,
   "id": "8f3f7e8d",
   "metadata": {},
   "outputs": [],
   "source": []
  },
  {
   "cell_type": "code",
   "execution_count": null,
   "id": "1bb6363d",
   "metadata": {},
   "outputs": [],
   "source": [
    "import torch\n",
    "import numpy as np\n",
    "import matplotlib.pyplot as plt\n",
    "from mpl_toolkits.mplot3d import Axes3D\n",
    "\n",
    "# r is of shape [5, 1, 1]\n",
    "r = torch.randn(5, 1, 1)\n",
    "\n",
    "# r_sampling_ii is a scalar\n",
    "r_sampling_ii = torch.tensor(0.5)\n",
    "\n",
    "# mask will have shape [5, 1, 1]\n",
    "mask = r < r_sampling_ii\n",
    "\n",
    "# commonfactor is of shape [5, 4, 3]\n",
    "commonfactor = torch.randn(5, 4, 3)\n",
    "\n",
    "\n",
    "# mask_broad will be broadcasted to the shape of commonfactor [5, 4, 3]\n",
    "mask_broad = mask * commonfactor\n",
    "\n",
    "\n",
    "# Convert the tensor to a NumPy array\n",
    "mask_broad_np = mask_broad.numpy()\n",
    "\n",
    "# Get the indices where mask is True\n",
    "x, y, z = np.where(mask_broad_np)\n",
    "\n",
    "fig = plt.figure()\n",
    "ax = fig.add_subplot(111, projection='3d')\n",
    "\n",
    "# Plot the points\n",
    "ax.scatter(x, y, z)\n",
    "plt.show()"
   ]
  },
  {
   "cell_type": "code",
   "execution_count": null,
   "id": "a4a37bee",
   "metadata": {},
   "outputs": [],
   "source": [
    "x"
   ]
  },
  {
   "cell_type": "code",
   "execution_count": null,
   "id": "2cf24495",
   "metadata": {},
   "outputs": [],
   "source": [
    "y"
   ]
  },
  {
   "cell_type": "code",
   "execution_count": null,
   "id": "61001756",
   "metadata": {},
   "outputs": [],
   "source": [
    "z"
   ]
  },
  {
   "cell_type": "code",
   "execution_count": null,
   "id": "0759e6df",
   "metadata": {},
   "outputs": [],
   "source": []
  },
  {
   "cell_type": "code",
   "execution_count": null,
   "id": "ec05d779",
   "metadata": {},
   "outputs": [],
   "source": [
    "import torch\n",
    "import numpy as np\n",
    "import matplotlib.pyplot as plt\n",
    "from mpl_toolkits.mplot3d import Axes3D\n",
    "\n",
    "# Load the tensor\n",
    "mask = torch.load(\"cmake-build-debug/testCPPLibrary/mask_double.pt\")\n",
    "\n",
    "# Convert the tensor to a NumPy array\n",
    "mask_np = mask.numpy()\n",
    "\n",
    "# Get the indices where mask is True\n",
    "x, y, z = np.where(mask_np)\n",
    "\n",
    "fig = plt.figure()\n",
    "ax = fig.add_subplot(111, projection='3d')\n",
    "\n",
    "# Plot the points\n",
    "ax.scatter(x, y, z)\n",
    "plt.show()\n"
   ]
  },
  {
   "cell_type": "code",
   "execution_count": null,
   "id": "5d9446cf",
   "metadata": {},
   "outputs": [],
   "source": []
  },
  {
   "cell_type": "code",
   "execution_count": null,
   "id": "5e9c1e46",
   "metadata": {},
   "outputs": [],
   "source": []
  }
 ],
 "metadata": {
  "kernelspec": {
   "display_name": "Python [conda env:Cosmos]",
   "language": "python",
   "name": "conda-env-Cosmos-py"
  },
  "language_info": {
   "codemirror_mode": {
    "name": "ipython",
    "version": 3
   },
   "file_extension": ".py",
   "mimetype": "text/x-python",
   "name": "python",
   "nbconvert_exporter": "python",
   "pygments_lexer": "ipython3",
   "version": "3.9.16"
  }
 },
 "nbformat": 4,
 "nbformat_minor": 5
}
