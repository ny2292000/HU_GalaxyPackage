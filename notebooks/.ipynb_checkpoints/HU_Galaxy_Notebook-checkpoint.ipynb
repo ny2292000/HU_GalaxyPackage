{
 "cells": [
  {
   "cell_type": "markdown",
   "id": "63b5ae1d-8fca-4f5c-b590-b5e613456ca6",
   "metadata": {},
   "source": [
    "In HU, the distance is given by\n",
    "$d(z) = R_0 \\frac{z}{(1+z)}$\n",
    "\n",
    "the 4D radius is given by:\n",
    "$R(z) = R_0 \\frac{1}{(1+z)}$\n",
    "\n",
    "where $R_0$ = 14.01 GLY\n",
    "$G(t) = G_0\\frac{R_0}{R(z)}$\n",
    "\n",
    "$G = G_0 (1+z)$\n",
    "\n",
    "Using Newtonian Dynamics while reversing time (having the average galaxy moving back in time and through the 4D spatial manifold), we get:\n",
    "$G(z)\\frac{M}{r(z)^2} = \\frac{v(z)^2}{r(z)}$\n",
    "\n",
    "r(z)=$G(z)\\frac{M}{v(z)^2}=G_0 (1+z)\\frac{M}{v(z)^2}$\n",
    "\n",
    "Since the angular size of a galaxy is roughly r(z)/d(z)\n",
    "\n",
    "AngularSize= $G_0 (1+z)\\frac{M}{v(z)^2}/(R_0\\frac{z}{(1+z)})= \\frac{G_0M(1+z)^2}{R_0  z v(z)^2} \\propto \\frac{1}{z}$\n",
    "\n",
    "This means that v(z) =$ v_0(1+z)$ which implies that $r(z) = r_0/(1+z)$\n",
    "\n",
    "where $R_0$ is the current 4D radius (14.01 GLY), and $v_0$ is the current tangential velocity of a body in orbit.\n",
    "\n",
    "So, as G varies, the radius of the orbits varies, and velocity adjusts to keep angular momentum constant. The resulting angular size z-dependency is $\\frac{1}{z} $as depicted in Kapahi’s data.\n",
    "\n",
    "**NOTICE THAT THIS IS NOT A SMALL RESULT. I DERIVED THE Z-DEPENDENCY OF THE ANGULAR SIZE (AN OBSERVABLE) IN AN EPOCH-DEPENDENT G. THIS HAS NEVER BEEN DONE, AND IT SUPPORTS MY THEORY AND DEBUNKS GENERAL RELATIVITY.**\n",
    "\n",
    "**JWST'S OBSERVATION OF HUGE GALAXIES IS THE RESULT OF INCORRECT GALAXY SIZE PREDICTIONS AND DISTRIBUTION DUE TO RIEMMANIAN GEOMETRY: NO IFS OR BUTS.**\n"
   ]
  },
  {
   "cell_type": "code",
   "execution_count": 2,
   "id": "496a5512",
   "metadata": {},
   "outputs": [],
   "source": [
    "import matplotlib\n",
    "matplotlib.use('TkAgg')  # Use the TkAgg backend (or another appropriate one)\n",
    "import matplotlib.pyplot as plt\n",
    "import numpy as np\n",
    "import math\n",
    "import pandas as pd\n",
    "from hugalaxy import  calculate_density_parameters\n",
    "from hugalaxy import GalaxyWrapper, plotRotationCurve, calculate_density_parameters\n",
    "from timeit import default_timer as timer"
   ]
  },
  {
   "cell_type": "code",
   "execution_count": 4,
   "id": "56d81c50",
   "metadata": {},
   "outputs": [],
   "source": [
    "####################################################\n",
    "# MODELING M33 GALAXY\n",
    "####################################################\n",
    "import time\n",
    "time.sleep(0)  # Sleep for 30 seconds\n",
    "\n",
    "# Rest of your script...\n",
    "\n",
    "\n",
    "m33_rotational_curve = np.array( [\n",
    "    [0.0, 0.0],\n",
    "    [1508.7187, 38.674137],\n",
    "    [2873.3889, 55.65067],\n",
    "    [4116.755, 67.91063],\n",
    "    [5451.099, 79.22689],\n",
    "    [6846.0957, 85.01734],\n",
    "    [8089.462, 88.38242],\n",
    "    [9393.48, 92.42116],\n",
    "    [10727.824, 95.11208],\n",
    "    [11880.212, 98.342697],\n",
    "    [13275.208, 99.82048],\n",
    "    [14609.553, 102.10709],\n",
    "    [18521.607, 104.25024],\n",
    "    [22403.336, 107.60643],\n",
    "    [26406.369, 115.40966],\n",
    "    [30379.076, 116.87875],\n",
    "    [34382.107, 116.05664],\n",
    "    [38354.813, 117.93005],\n",
    "    [42266.87, 121.42091],\n",
    "    [46300.227, 128.55017],\n",
    "    [50212.285, 132.84966]\n",
    "])\n",
    "\n",
    "M33_Distance = 3.2E6\n",
    "Radius_Universe_4D = 14.03E9\n",
    "redshift = M33_Distance / (Radius_Universe_4D - M33_Distance)\n",
    "nr = 200\n",
    "# NZ should always be ODD\n",
    "nz = 200\n",
    "ntheta = 180\n",
    "R_max = 50000.0\n",
    "\n",
    "rho_0, alpha_0, rho_1, alpha_1, h0 = calculate_density_parameters(redshift)\n",
    "GalaxyMass = 5E10\n",
    "# Create The Galaxy\n",
    "M33 = GalaxyWrapper(GalaxyMass, rho_0, alpha_0, rho_1, alpha_1, h0, R_max, nr,\n",
    "                    nz, ntheta, redshift,GPU_ID=0, cuda=True, taskflow=True)\n",
    "M33.read_galaxy_rotation_curve(m33_rotational_curve)\n",
    "M33.density_wrapper_internal()\n",
    "M33.v_simulated_points = M33.calculate_rotation_velocity_internal()\n",
    "plotRotationCurve(M33)"
   ]
  },
  {
   "cell_type": "code",
   "execution_count": 6,
   "id": "e7e5097b",
   "metadata": {},
   "outputs": [
    {
     "ename": "AttributeError",
     "evalue": "'hugalaxy.hugalaxy.GalaxyWrapper' object has no attribute 'rho'",
     "output_type": "error",
     "traceback": [
      "\u001b[0;31m---------------------------------------------------------------------------\u001b[0m",
      "\u001b[0;31mAttributeError\u001b[0m                            Traceback (most recent call last)",
      "Cell \u001b[0;32mIn[6], line 1\u001b[0m\n\u001b[0;32m----> 1\u001b[0m \u001b[43mM33\u001b[49m\u001b[38;5;241;43m.\u001b[39;49m\u001b[43mrho\u001b[49m\n",
      "\u001b[0;31mAttributeError\u001b[0m: 'hugalaxy.hugalaxy.GalaxyWrapper' object has no attribute 'rho'"
     ]
    }
   ],
   "source": [
    "M33.rho"
   ]
  },
  {
   "cell_type": "code",
   "execution_count": null,
   "id": "06f25ea7",
   "metadata": {},
   "outputs": [],
   "source": []
  },
  {
   "cell_type": "code",
   "execution_count": null,
   "id": "c1998332",
   "metadata": {},
   "outputs": [],
   "source": []
  },
  {
   "cell_type": "code",
   "execution_count": null,
   "id": "72c9c0d2",
   "metadata": {},
   "outputs": [],
   "source": [
    "redshift=139\n",
    "time_step_years = 10E6\n",
    "eta = 1/100\n",
    "temperature =7\n",
    "current_masses = M33.DrudePropagator( redshift,  time_step_years,  eta,  temperature)"
   ]
  },
  {
   "cell_type": "code",
   "execution_count": 6,
   "id": "0440885f",
   "metadata": {},
   "outputs": [
    {
     "data": {
      "text/plain": [
       "array([0., 0., 0., 0., 0., 0., 0., 0., 0., 0., 0., 0., 0., 0., 0., 0., 0.,\n",
       "       0., 0., 0., 0.])"
      ]
     },
     "execution_count": 6,
     "metadata": {},
     "output_type": "execute_result"
    }
   ],
   "source": [
    "M33.v_simulated_points"
   ]
  },
  {
   "cell_type": "code",
   "execution_count": null,
   "id": "a3d230d9",
   "metadata": {},
   "outputs": [],
   "source": []
  },
  {
   "cell_type": "code",
   "execution_count": null,
   "id": "cad9ea1a",
   "metadata": {},
   "outputs": [],
   "source": []
  },
  {
   "cell_type": "code",
   "execution_count": null,
   "id": "c37a6627",
   "metadata": {},
   "outputs": [],
   "source": []
  },
  {
   "cell_type": "code",
   "execution_count": null,
   "id": "1f62f618",
   "metadata": {},
   "outputs": [],
   "source": []
  }
 ],
 "metadata": {
  "kernelspec": {
   "display_name": "Python [conda env:Cosmos]",
   "language": "python",
   "name": "conda-env-Cosmos-py"
  },
  "language_info": {
   "codemirror_mode": {
    "name": "ipython",
    "version": 3
   },
   "file_extension": ".py",
   "mimetype": "text/x-python",
   "name": "python",
   "nbconvert_exporter": "python",
   "pygments_lexer": "ipython3",
   "version": "3.9.16"
  }
 },
 "nbformat": 4,
 "nbformat_minor": 5
}
