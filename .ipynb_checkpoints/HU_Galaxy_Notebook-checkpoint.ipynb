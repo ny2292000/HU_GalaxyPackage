{
 "cells": [
  {
   "cell_type": "code",
   "execution_count": 1,
   "id": "123ee659",
   "metadata": {},
   "outputs": [],
   "source": [
    "import numpy as np\n",
    "from hugalaxy import GalaxyWrapper, calculate_mass\n",
    "\n",
    "m33_rotational_curve = np.array( [\n",
    "    [0.0, 0.0],\n",
    "    [1508.7187, 38.674137],\n",
    "    [2873.3889, 55.65067],\n",
    "    [4116.755, 67.91063],\n",
    "    [5451.099, 79.22689],\n",
    "    [6846.0957, 85.01734],\n",
    "    [8089.462, 88.38242],\n",
    "    [9393.48, 92.42116],\n",
    "    [10727.824, 95.11208],\n",
    "    [11880.212, 98.342697],\n",
    "    [13275.208, 99.82048],\n",
    "    [14609.553, 102.10709],\n",
    "    [18521.607, 104.25024],\n",
    "    [22403.336, 107.60643],\n",
    "    [26406.369, 115.40966],\n",
    "    [30379.076, 116.87875],\n",
    "    [34382.107, 116.05664],\n",
    "    [38354.813, 117.93005],\n",
    "    [42266.87, 121.42091],\n",
    "    [46300.227, 128.55017],\n",
    "    [50212.285, 132.84966]\n",
    "])\n",
    "\n",
    "M33_Distance = 3.2E6\n",
    "Radius_Universe_4D = 14.03E9\n",
    "redshift = M33_Distance / (Radius_Universe_4D - M33_Distance)\n",
    "nr = 300\n",
    "nz = 100\n",
    "ntheta = 180\n",
    "nr_sampling = 103\n",
    "nz_sampling = 104\n",
    "R_max = 50000.0\n",
    "x0 = [17.90011888788805,\n",
    " 0.0004742124899533843,\n",
    " 0.1533971358967619,\n",
    " 2.2446461026163997e-05,\n",
    " 140282.89274199668]\n",
    "rho_0, alpha_0, rho_1, alpha_1, h0 = x0\n",
    "GalaxyMass = 5E10\n",
    "M33 = GalaxyWrapper(GalaxyMass, rho_0, alpha_0, rho_1, alpha_1, h0, R_max, nr,\n",
    "                    nz, nr_sampling, nz_sampling, ntheta, redshift, cuda=False)\n"
   ]
  },
  {
   "cell_type": "code",
   "execution_count": 2,
   "id": "478b5c7a",
   "metadata": {},
   "outputs": [
    {
     "data": {
      "text/plain": [
       "0"
      ]
     },
     "execution_count": 2,
     "metadata": {},
     "output_type": "execute_result"
    }
   ],
   "source": [
    "M33.getGPU_ID()"
   ]
  },
  {
   "cell_type": "code",
   "execution_count": 10,
   "id": "baef5ed7",
   "metadata": {},
   "outputs": [],
   "source": [
    "M33.setGPU_ID(0)"
   ]
  },
  {
   "cell_type": "code",
   "execution_count": 11,
   "id": "ad69eb82",
   "metadata": {},
   "outputs": [
    {
     "data": {
      "text/plain": [
       "0"
      ]
     },
     "execution_count": 11,
     "metadata": {},
     "output_type": "execute_result"
    }
   ],
   "source": [
    "M33.getGPU_ID()"
   ]
  },
  {
   "cell_type": "code",
   "execution_count": 12,
   "id": "511c4cff",
   "metadata": {},
   "outputs": [
    {
     "data": {
      "text/plain": [
       "True"
      ]
     },
     "execution_count": 12,
     "metadata": {},
     "output_type": "execute_result"
    }
   ],
   "source": [
    "M33.getCuda()"
   ]
  },
  {
   "cell_type": "code",
   "execution_count": 13,
   "id": "1e61e3f4",
   "metadata": {},
   "outputs": [],
   "source": [
    "M33.setCuda(True)"
   ]
  },
  {
   "cell_type": "code",
   "execution_count": 14,
   "id": "ac13c846",
   "metadata": {},
   "outputs": [
    {
     "data": {
      "text/plain": [
       "True"
      ]
     },
     "execution_count": 14,
     "metadata": {},
     "output_type": "execute_result"
    }
   ],
   "source": [
    "M33.getCuda()"
   ]
  },
  {
   "cell_type": "code",
   "execution_count": 15,
   "id": "d7647f3a",
   "metadata": {},
   "outputs": [
    {
     "name": "stdout",
     "output_type": "stream",
     "text": [
      "CUDA STATUS 1\n",
      "Total Error = 103.425\n",
      "Total Error = 19551.3\n",
      "Total Error = 21432\n",
      "Total Error = 5282.43\n",
      "Total Error = 1297.01\n",
      "Total Error = 103.425\n",
      "Total Error = 7548.11\n",
      "Total Error = 43151.5\n",
      "Total Error = 3743.6\n",
      "Total Error = 98954.9\n",
      "Total Error = 2069.7\n",
      "Total Error = 7706.02\n",
      "Total Error = 1133.52\n",
      "Total Error = 9209.1\n",
      "Total Error = 776.435\n",
      "Total Error = 8124.53\n",
      "Total Error = 617.932\n",
      "Total Error = 5620.72\n",
      "Total Error = 388.698\n",
      "Total Error = 1850.04\n",
      "Total Error = 308.167\n",
      "Total Error = 1688.56\n",
      "Total Error = 228.028\n",
      "Total Error = 1278.57\n",
      "Total Error = 224.321\n",
      "Total Error = 813.343\n",
      "Total Error = 166.682\n",
      "Total Error = 495.312\n",
      "Total Error = 142.1\n",
      "Total Error = 386.709\n",
      "Total Error = 126.176\n",
      "Total Error = 306.24\n",
      "Total Error = 130.968\n",
      "Total Error = 205.14\n",
      "Total Error = 117.575\n",
      "Total Error = 191.264\n",
      "Total Error = 109.453\n",
      "Total Error = 153.331\n",
      "Total Error = 108.541\n",
      "Total Error = 141.797\n",
      "Total Error = 108.13\n",
      "Total Error = 118.231\n",
      "Total Error = 106.45\n",
      "Total Error = 121.947\n",
      "Total Error = 103.573\n",
      "Total Error = 109.84\n",
      "Total Error = 104.1\n",
      "Total Error = 112.644\n",
      "Total Error = 103.82\n",
      "Total Error = 104.861\n",
      "Total Error = 102.937\n",
      "Total Error = 105.172\n",
      "Total Error = 102.789\n",
      "Total Error = 105.417\n",
      "Total Error = 102.723\n",
      "Total Error = 106.022\n",
      "Total Error = 102.665\n",
      "Total Error = 102.94\n",
      "Total Error = 104.028\n",
      "Total Error = 102.635\n",
      "Total Error = 103.017\n",
      "Total Error = 102.617\n",
      "Total Error = 103.159\n",
      "Total Error = 102.592\n",
      "Total Error = 103.378\n",
      "Total Error = 102.528\n",
      "Total Error = 102.72\n",
      "Total Error = 102.563\n",
      "Total Error = 102.624\n",
      "Total Error = 102.576\n",
      "Total Error = 102.857\n",
      "Total Error = 102.507\n",
      "Total Error = 102.63\n",
      "Total Error = 102.528\n",
      "Total Error = 102.534\n",
      "Total Error = 102.617\n",
      "Total Error = 102.508\n",
      "Total Error = 102.608\n",
      "Total Error = 102.503\n",
      "Total Error = 102.55\n",
      "Total Error = 102.499\n",
      "Total Error = 102.573\n",
      "Total Error = 102.495\n",
      "Total Error = 102.536\n",
      "Total Error = 102.498\n",
      "Total Error = 102.521\n",
      "Total Error = 102.493\n",
      "Total Error = 102.522\n",
      "Total Error = 102.492\n",
      "Total Error = 102.507\n",
      "Total Error = 102.492\n",
      "Total Error = 102.504\n",
      "Total Error = 102.491\n",
      "Total Error = 102.501\n",
      "Total Error = 102.491\n",
      "Total Error = 102.501\n",
      "Total Error = 102.49\n",
      "Total Error = 102.495\n",
      "Total Error = 102.49\n",
      "Total Error = 102.49\n",
      "Total Error = 102.5\n",
      "Total Error = 102.489\n",
      "Total Error = 102.493\n",
      "Total Error = 102.49\n",
      "Total Error = 102.489\n",
      "Total Error = 102.491\n",
      "Total Error = 102.493\n",
      "Total Error = 102.489\n",
      "Total Error = 102.49\n",
      "Total Error = 102.488\n",
      "Total Error = 102.489\n",
      "Total Error = 102.491\n",
      "Total Error = 102.489\n",
      "Total Error = 102.489\n",
      "Total Error = 102.488\n",
      "Total Error = 102.489\n",
      "Total Error = 102.489\n",
      "Total Error = 102.488\n",
      "Total Error = 102.488\n",
      "Total Error = 102.488\n",
      "Total Error = 102.489\n",
      "Total Error = 102.488\n",
      "Total Error = 102.489\n",
      "Total Error = 102.488\n",
      "Total Error = 102.488\n",
      "Total Error = 102.488\n",
      "Total Error = 102.488\n",
      "Total Error = 102.487\n",
      "Total Error = 102.488\n",
      "Total Error = 102.487\n",
      "Total Error = 102.487\n",
      "Total Error = 102.487\n",
      "Total Error = 102.486\n",
      "Total Error = 102.487\n",
      "Total Error = 102.486\n",
      "Total Error = 102.485\n",
      "Total Error = 102.486\n",
      "Total Error = 102.486\n",
      "Total Error = 102.485\n",
      "Total Error = 102.486\n",
      "Total Error = 102.485\n",
      "Total Error = 102.486\n",
      "Total Error = 102.485\n",
      "Total Error = 102.485\n",
      "Total Error = 102.486\n",
      "Total Error = 102.485\n",
      "Total Error = 102.485\n",
      "Total Error = 102.485\n",
      "Total Error = 102.485\n",
      "Total Error = 102.485\n",
      "Total Error = 102.485\n",
      "Total Error = 102.485\n",
      "Total Error = 102.485\n",
      "Total Error = 102.485\n",
      "Total Error = 102.485\n",
      "Total Error = 102.485\n",
      "Total Error = 102.485\n",
      "Total Error = 102.485\n",
      "Total Error = 102.485\n",
      "Total Error = 102.485\n",
      "Total Error = 102.485\n",
      "Total Error = 102.485\n",
      "Total Error = 102.485\n",
      "Total Error = 102.485\n",
      "Total Error = 102.485\n",
      "Total Error = 102.485\n",
      "Total Error = 102.485\n",
      "Total Error = 102.485\n",
      "Total Error = 102.485\n",
      "Total Error = 102.485\n",
      "Total Error = 102.485\n",
      "Total Error = 102.485\n",
      "Total Error = 102.485\n",
      "Total Error = 102.485\n",
      "Total Error = 102.485\n",
      "Total Error = 102.485\n",
      "Total Error = 102.485\n",
      "Total Error = 102.485\n",
      "Total Error = 102.485\n",
      "Total Error = 102.485\n",
      "Total Error = 102.485\n",
      "Total Error = 102.485\n",
      "Total Error = 102.485\n",
      "Total Error = 102.485\n",
      "Total Error = 102.485\n",
      "Total Error = 102.485\n",
      "Total Error = 102.485\n",
      "Total Error = 102.485\n",
      "Total Error = 102.485\n",
      "Total Error = 102.485\n",
      "Total Error = 102.485\n",
      "Total Error = 102.485\n",
      "Total Error = 102.485\n",
      "Total Error = 102.485\n",
      "Total Error = 102.485\n",
      "Total Error = 102.485\n",
      "Total Error = 102.485\n",
      "Total Error = 102.485\n",
      "Total Error = 102.485\n",
      "Total Error = 102.485\n",
      "Total Error = 102.485\n",
      "Total Error = 102.485\n",
      "Total Error = 102.485\n",
      "Total Error = 102.485\n",
      "Total Error = 102.485\n",
      "Total Error = 102.485\n",
      "Total Error = 102.485\n",
      "Total Error = 102.485\n",
      "Total Error = 102.485\n",
      "Total Error = 102.485\n",
      "Total Error = 102.485\n",
      "Total Error = 102.485\n",
      "Total Error = 102.485\n",
      "Total Error = 102.485\n",
      "Total Error = 102.485\n",
      "Total Error = 102.485\n",
      "Total Error = 102.485\n",
      "Total Error = 102.485\n",
      "Total Error = 102.485\n",
      "Total Error = 102.485\n",
      "Total Error = 102.485\n",
      "Total Error = 102.485\n",
      "Total Error = 102.485\n",
      "Total Error = 102.485\n",
      "Total Error = 102.485\n",
      "Total Error = 102.485\n",
      "Total Error = 102.485\n",
      "Total Error = 102.485\n",
      "Total Error = 102.485\n",
      "Total Error = 102.485\n",
      "Total Error = 102.485\n",
      "Total Error = 102.485\n",
      "Total Error = 102.485\n",
      "Total Error = 102.485\n",
      "Total Error = 102.485\n",
      "Total Error = 102.485\n",
      "Total Error = 102.485\n",
      "Total Error = 102.485\n",
      "Total Error = 102.485\n",
      "Total Error = 102.485\n",
      "Total Error = 102.485\n",
      "Total Error = 102.485\n",
      "Total Error = 102.485\n",
      "Total Error = 102.485\n",
      "Total Error = 102.485\n",
      "Total Error = 102.485\n",
      "Total Error = 102.485\n",
      "Total Error = 102.485\n",
      "Total Error = 102.485\n",
      "Total Error = 102.485\n",
      "Total Error = 102.485\n",
      "Total Error = 102.485\n",
      "Total Error = 102.485\n",
      "Total Error = 102.485\n",
      "Total Error = 102.485\n",
      "Total Error = 102.485\n",
      "Total Error = 102.485\n",
      "Total Error = 102.485\n",
      "Total Error = 102.485\n",
      "Total Error = 102.485\n",
      "Total Error = 102.485\n",
      "Total Error = 102.485\n",
      "Total Error = 102.485\n",
      "Total Error = 102.485\n",
      "Total Error = 102.485\n",
      "Total Error = 102.485\n",
      "Total Error = 102.485\n",
      "Total Error = 102.485\n",
      "Total Error = 102.485\n",
      "Total Error = 102.485\n",
      "Total Error = 102.485\n",
      "Total Error = 102.485\n",
      "Total Error = 102.485\n",
      "Total Error = 102.485\n",
      "Total Error = 102.485\n",
      "Total Error = 102.485\n",
      "Total Error = 102.485\n",
      "Total Error = 102.485\n",
      "Total Error = 102.485\n",
      "Total Error = 102.485\n",
      "Total Error = 102.485\n",
      "Total Error = 102.485\n",
      "Total Error = 102.485\n",
      "Total Error = 102.485\n",
      "Total Error = 102.485\n",
      "Total Error = 102.485\n",
      "Total Error = 102.485\n",
      "Total Error = 102.485\n",
      "Total Error = 102.485\n",
      "Total Error = 102.485\n",
      "Total Error = 102.485\n",
      "Total Error = 102.485\n",
      "Total Error = 102.485\n",
      "Total Error = 102.485\n",
      "Total Error = 102.485\n",
      "Total Error = 102.485\n",
      "Total Error = 102.485\n",
      "Total Error = 102.485\n",
      "Total Error = 102.485\n",
      "Total Error = 102.485\n",
      "Total Error = 102.485\n",
      "Total Error = 102.485\n",
      "Total Error = 102.485\n",
      "Total Error = 102.485\n",
      "Total Error = 102.485\n",
      "Total Error = 102.485\n",
      "Total Error = 102.485\n",
      "Total Error = 102.485\n",
      "Total Error = 102.485\n",
      "Total Error = 102.485\n",
      "Total Error = 102.485\n",
      "Total Error = 102.485\n",
      "Total Error = 102.485\n",
      "Total Error = 102.485\n",
      "Total Error = 102.485\n",
      "Total Error = 102.485\n",
      "Total Error = 102.485\n",
      "Total Error = 102.485\n",
      "Total Error = 102.485\n",
      "Total Error = 102.485\n",
      "Total Error = 102.485\n",
      "Total Error = 102.485\n",
      "Total Error = 102.485\n",
      "Total Error = 102.485\n",
      "Total Error = 102.485\n",
      "Total Error = 102.485\n",
      "Total Error = 102.485\n",
      "Total Error = 102.485\n",
      "Total Error = 102.485\n",
      "Total Error = 102.485\n",
      "Total Error = 102.485\n",
      "Total Error = 102.485\n",
      "Total Error = 102.485\n",
      "Total Error = 102.485\n",
      "Total Error = 102.485\n",
      "Total Error = 102.485\n",
      "Total Error = 102.485\n",
      "Total Error = 102.485\n",
      "Total Error = 102.485\n",
      "Total Error = 102.485\n",
      "Total Error = 102.485\n",
      "Total Error = 102.485\n",
      "Total Error = 102.485\n",
      "Total Error = 102.485\n",
      "Total Error = 102.485\n",
      "Total Error = 102.485\n",
      "Total Error = 102.485\n",
      "Total Error = 102.485\n",
      "Total Error = 102.485\n",
      "Total Error = 102.485\n",
      "Total Error = 102.485\n",
      "Total Error = 102.485\n",
      "Total Error = 102.485\n",
      "Total Error = 102.485\n",
      "Total Error = 102.485\n",
      "Total Error = 102.485\n",
      "Total Error = 102.485\n",
      "Total Error = 102.485\n",
      "Total Error = 102.485\n",
      "Total Error = 102.485\n",
      "Total Error = 102.485\n",
      "Total Error = 102.485\n",
      "Total Error = 102.485\n",
      "Total Error = 102.485\n",
      "Total Error = 102.485\n",
      "Total Error = 102.485\n",
      "Total Error = 102.485\n",
      "Total Error = 102.485\n",
      "Total Error = 102.485\n",
      "Total Error = 102.485\n",
      "Total Error = 102.485\n",
      "Total Error = 102.485\n",
      "Total Error = 102.485\n",
      "Total Error = 102.485\n",
      "Total Error = 102.485\n",
      "Total Error = 102.485\n",
      "Total Error = 102.485\n",
      "Total Error = 102.485\n",
      "Total Error = 102.485\n",
      "Total Error = 102.485\n",
      "Total Error = 102.485\n",
      "Total Error = 102.485\n",
      "Total Error = 102.485\n",
      "Total Error = 102.485\n",
      "Total Error = 102.485\n",
      "Total Error = 102.485\n",
      "Total Error = 102.485\n",
      "Total Error = 102.485\n",
      "Total Error = 102.485\n",
      "Total Error = 102.485\n",
      "Total Error = 102.485\n",
      "Total Error = 102.485\n",
      "Total Error = 102.485\n",
      "Total Error = 102.485\n",
      "Total Error = 102.485\n",
      "Total Error = 102.485\n",
      "Total Error = 102.485\n",
      "Total Error = 102.485\n",
      "Total Error = 102.485\n",
      "Total Error = 102.485\n",
      "Total Error = 102.485\n",
      "Total Error = 102.485\n",
      "Total Error = 102.485\n",
      "Total Error = 102.485\n",
      "Total Error = 102.485\n",
      "Total Error = 102.485\n",
      "Total Error = 102.485\n",
      "Total Error = 102.485\n",
      "Total Error = 102.485\n",
      "Total Error = 102.485\n",
      "Total Error = 102.485\n",
      "Total Error = 102.485\n",
      "Total Error = 102.485\n",
      "Total Error = 102.485\n",
      "Total Error = 102.485\n",
      "Total Error = 102.485\n",
      "Total Error = 102.485\n",
      "Total Error = 102.485\n",
      "Total Error = 102.485\n",
      "Total Error = 102.485\n",
      "Total Error = 102.485\n",
      "Total Error = 102.485\n",
      "Total Error = 102.485\n",
      "Total Error = 102.485\n",
      "4\n"
     ]
    }
   ],
   "source": [
    "M33.read_galaxy_rotation_curve(m33_rotational_curve)\n",
    "v_sim = M33.simulate_rotation_curve()"
   ]
  },
  {
   "cell_type": "code",
   "execution_count": 16,
   "id": "9b5fbce9",
   "metadata": {},
   "outputs": [
    {
     "data": {
      "text/plain": [
       "[17.90011888788805,\n",
       " 0.0004742124899533843,\n",
       " 0.1533971358967619,\n",
       " 2.2446461026163997e-05,\n",
       " 140282.89274199668]"
      ]
     },
     "execution_count": 16,
     "metadata": {},
     "output_type": "execute_result"
    }
   ],
   "source": [
    "M33.print_density_parameters()"
   ]
  },
  {
   "cell_type": "code",
   "execution_count": 17,
   "id": "da20fbb9",
   "metadata": {},
   "outputs": [
    {
     "data": {
      "image/png": "[encoded data removed]",
      "text/plain": [
       "<Figure size 640x480 with 1 Axes>"
      ]
     },
     "metadata": {},
     "output_type": "display_data"
    },
    {
     "data": {
      "text/plain": [
       "(5.0, 19.68)"
      ]
     },
     "execution_count": 17,
     "metadata": {},
     "output_type": "execute_result"
    }
   ],
   "source": [
    "import matplotlib.pyplot as plt\n",
    "plt.plot(m33_rotational_curve[:,0], m33_rotational_curve[:,1], color=\"blue\" )\n",
    "plt.plot(m33_rotational_curve[:,0], v_sim[:], color=\"red\" )\n",
    "plt.xlabel(\"Radial Distance (lyr)\")\n",
    "plt.ylabel(\"Tangential Velocity (km/s)\")\n",
    "myMass = np.round(calculate_mass(rho_0, alpha_0, h0)/1E10,2)\n",
    "gasMass = np.round(calculate_mass(rho_1, alpha_1, h0)/1E10,2)\n",
    "plt.title(\"M33 Galaxy Rotation Curve \\n Luminous Mass {}E10 SunMass \\n Gas Mass {}E10 SunMass\".format(myMass, gasMass))\n",
    "plt.xlim(0,50000)\n",
    "plt.ylim(0,135)\n",
    "plt.show()\n",
    "myMass, gasMass"
   ]
  },
  {
   "cell_type": "code",
   "execution_count": null,
   "id": "72c9c0d2",
   "metadata": {},
   "outputs": [],
   "source": [
    "epoch=100E6\n",
    "time_step_years = 10E6\n",
    "eta = 100\n",
    "temperature =7\n",
    "for i in np.arange(11):\n",
    "    current_masses = M33.DrudePropagator( epoch,  time_step_years,  eta,  temperature)\n",
    "    epoch += time_step_years\n"
   ]
  },
  {
   "cell_type": "code",
   "execution_count": null,
   "id": "a4464cf1",
   "metadata": {},
   "outputs": [],
   "source": []
  },
  {
   "cell_type": "code",
   "execution_count": null,
   "id": "fb80223a",
   "metadata": {},
   "outputs": [],
   "source": []
  },
  {
   "cell_type": "code",
   "execution_count": null,
   "id": "b5d5b664",
   "metadata": {},
   "outputs": [],
   "source": []
  },
  {
   "cell_type": "code",
   "execution_count": null,
   "id": "f583508f",
   "metadata": {},
   "outputs": [],
   "source": []
  },
  {
   "cell_type": "code",
   "execution_count": null,
   "id": "ef749a58",
   "metadata": {},
   "outputs": [],
   "source": []
  },
  {
   "cell_type": "code",
   "execution_count": null,
   "id": "8f3f7e8d",
   "metadata": {},
   "outputs": [],
   "source": []
  },
  {
   "cell_type": "code",
   "execution_count": 9,
   "id": "1bb6363d",
   "metadata": {},
   "outputs": [
    {
     "data": {
      "image/png": "[encoded data removed]",
      "text/plain": [
       "<Figure size 640x480 with 1 Axes>"
      ]
     },
     "metadata": {},
     "output_type": "display_data"
    }
   ],
   "source": [
    "import torch\n",
    "import numpy as np\n",
    "import matplotlib.pyplot as plt\n",
    "from mpl_toolkits.mplot3d import Axes3D\n",
    "\n",
    "# r is of shape [5, 1, 1]\n",
    "r = torch.randn(5, 1, 1)\n",
    "\n",
    "# r_sampling_ii is a scalar\n",
    "r_sampling_ii = torch.tensor(0.5)\n",
    "\n",
    "# mask will have shape [5, 1, 1]\n",
    "mask = r < r_sampling_ii\n",
    "\n",
    "# commonfactor is of shape [5, 4, 3]\n",
    "commonfactor = torch.randn(5, 4, 3)\n",
    "\n",
    "\n",
    "# mask_broad will be broadcasted to the shape of commonfactor [5, 4, 3]\n",
    "mask_broad = mask * commonfactor\n",
    "\n",
    "\n",
    "# Convert the tensor to a NumPy array\n",
    "mask_broad_np = mask_broad.numpy()\n",
    "\n",
    "# Get the indices where mask is True\n",
    "x, y, z = np.where(mask_broad_np)\n",
    "\n",
    "fig = plt.figure()\n",
    "ax = fig.add_subplot(111, projection='3d')\n",
    "\n",
    "# Plot the points\n",
    "ax.scatter(x, y, z)\n",
    "plt.show()"
   ]
  },
  {
   "cell_type": "code",
   "execution_count": 10,
   "id": "a4a37bee",
   "metadata": {},
   "outputs": [
    {
     "data": {
      "text/plain": [
       "array([1, 1, 1, 1, 1, 1, 1, 1, 1, 1, 1, 1, 3, 3, 3, 3, 3, 3, 3, 3, 3, 3,\n",
       "       3, 3, 4, 4, 4, 4, 4, 4, 4, 4, 4, 4, 4, 4])"
      ]
     },
     "execution_count": 10,
     "metadata": {},
     "output_type": "execute_result"
    }
   ],
   "source": [
    "x"
   ]
  },
  {
   "cell_type": "code",
   "execution_count": 11,
   "id": "2cf24495",
   "metadata": {},
   "outputs": [
    {
     "data": {
      "text/plain": [
       "array([0, 0, 0, 1, 1, 1, 2, 2, 2, 3, 3, 3, 0, 0, 0, 1, 1, 1, 2, 2, 2, 3,\n",
       "       3, 3, 0, 0, 0, 1, 1, 1, 2, 2, 2, 3, 3, 3])"
      ]
     },
     "execution_count": 11,
     "metadata": {},
     "output_type": "execute_result"
    }
   ],
   "source": [
    "y"
   ]
  },
  {
   "cell_type": "code",
   "execution_count": 12,
   "id": "61001756",
   "metadata": {},
   "outputs": [
    {
     "data": {
      "text/plain": [
       "array([0, 1, 2, 0, 1, 2, 0, 1, 2, 0, 1, 2, 0, 1, 2, 0, 1, 2, 0, 1, 2, 0,\n",
       "       1, 2, 0, 1, 2, 0, 1, 2, 0, 1, 2, 0, 1, 2])"
      ]
     },
     "execution_count": 12,
     "metadata": {},
     "output_type": "execute_result"
    }
   ],
   "source": [
    "z"
   ]
  },
  {
   "cell_type": "code",
   "execution_count": null,
   "id": "0759e6df",
   "metadata": {},
   "outputs": [],
   "source": []
  },
  {
   "cell_type": "code",
   "execution_count": 13,
   "id": "ec05d779",
   "metadata": {},
   "outputs": [
    {
     "ename": "FileNotFoundError",
     "evalue": "[Errno 2] No such file or directory: 'cmake-build-debug/testCPPLibrary/mask_double.pt'",
     "output_type": "error",
     "traceback": [
      "\u001b[0;31m---------------------------------------------------------------------------\u001b[0m",
      "\u001b[0;31mFileNotFoundError\u001b[0m                         Traceback (most recent call last)",
      "Cell \u001b[0;32mIn[13], line 7\u001b[0m\n\u001b[1;32m      4\u001b[0m \u001b[38;5;28;01mfrom\u001b[39;00m \u001b[38;5;21;01mmpl_toolkits\u001b[39;00m\u001b[38;5;21;01m.\u001b[39;00m\u001b[38;5;21;01mmplot3d\u001b[39;00m \u001b[38;5;28;01mimport\u001b[39;00m Axes3D\n\u001b[1;32m      6\u001b[0m \u001b[38;5;66;03m# Load the tensor\u001b[39;00m\n\u001b[0;32m----> 7\u001b[0m mask \u001b[38;5;241m=\u001b[39m \u001b[43mtorch\u001b[49m\u001b[38;5;241;43m.\u001b[39;49m\u001b[43mload\u001b[49m\u001b[43m(\u001b[49m\u001b[38;5;124;43m\"\u001b[39;49m\u001b[38;5;124;43mcmake-build-debug/testCPPLibrary/mask_double.pt\u001b[39;49m\u001b[38;5;124;43m\"\u001b[39;49m\u001b[43m)\u001b[49m\n\u001b[1;32m      9\u001b[0m \u001b[38;5;66;03m# Convert the tensor to a NumPy array\u001b[39;00m\n\u001b[1;32m     10\u001b[0m mask_np \u001b[38;5;241m=\u001b[39m mask\u001b[38;5;241m.\u001b[39mnumpy()\n",
      "File \u001b[0;32m~/anaconda3/envs/Cosmos/lib/python3.9/site-packages/torch/serialization.py:791\u001b[0m, in \u001b[0;36mload\u001b[0;34m(f, map_location, pickle_module, weights_only, **pickle_load_args)\u001b[0m\n\u001b[1;32m    788\u001b[0m \u001b[38;5;28;01mif\u001b[39;00m \u001b[38;5;124m'\u001b[39m\u001b[38;5;124mencoding\u001b[39m\u001b[38;5;124m'\u001b[39m \u001b[38;5;129;01mnot\u001b[39;00m \u001b[38;5;129;01min\u001b[39;00m pickle_load_args\u001b[38;5;241m.\u001b[39mkeys():\n\u001b[1;32m    789\u001b[0m     pickle_load_args[\u001b[38;5;124m'\u001b[39m\u001b[38;5;124mencoding\u001b[39m\u001b[38;5;124m'\u001b[39m] \u001b[38;5;241m=\u001b[39m \u001b[38;5;124m'\u001b[39m\u001b[38;5;124mutf-8\u001b[39m\u001b[38;5;124m'\u001b[39m\n\u001b[0;32m--> 791\u001b[0m \u001b[38;5;28;01mwith\u001b[39;00m \u001b[43m_open_file_like\u001b[49m\u001b[43m(\u001b[49m\u001b[43mf\u001b[49m\u001b[43m,\u001b[49m\u001b[43m \u001b[49m\u001b[38;5;124;43m'\u001b[39;49m\u001b[38;5;124;43mrb\u001b[39;49m\u001b[38;5;124;43m'\u001b[39;49m\u001b[43m)\u001b[49m \u001b[38;5;28;01mas\u001b[39;00m opened_file:\n\u001b[1;32m    792\u001b[0m     \u001b[38;5;28;01mif\u001b[39;00m _is_zipfile(opened_file):\n\u001b[1;32m    793\u001b[0m         \u001b[38;5;66;03m# The zipfile reader is going to advance the current file position.\u001b[39;00m\n\u001b[1;32m    794\u001b[0m         \u001b[38;5;66;03m# If we want to actually tail call to torch.jit.load, we need to\u001b[39;00m\n\u001b[1;32m    795\u001b[0m         \u001b[38;5;66;03m# reset back to the original position.\u001b[39;00m\n\u001b[1;32m    796\u001b[0m         orig_position \u001b[38;5;241m=\u001b[39m opened_file\u001b[38;5;241m.\u001b[39mtell()\n",
      "File \u001b[0;32m~/anaconda3/envs/Cosmos/lib/python3.9/site-packages/torch/serialization.py:271\u001b[0m, in \u001b[0;36m_open_file_like\u001b[0;34m(name_or_buffer, mode)\u001b[0m\n\u001b[1;32m    269\u001b[0m \u001b[38;5;28;01mdef\u001b[39;00m \u001b[38;5;21m_open_file_like\u001b[39m(name_or_buffer, mode):\n\u001b[1;32m    270\u001b[0m     \u001b[38;5;28;01mif\u001b[39;00m _is_path(name_or_buffer):\n\u001b[0;32m--> 271\u001b[0m         \u001b[38;5;28;01mreturn\u001b[39;00m \u001b[43m_open_file\u001b[49m\u001b[43m(\u001b[49m\u001b[43mname_or_buffer\u001b[49m\u001b[43m,\u001b[49m\u001b[43m \u001b[49m\u001b[43mmode\u001b[49m\u001b[43m)\u001b[49m\n\u001b[1;32m    272\u001b[0m     \u001b[38;5;28;01melse\u001b[39;00m:\n\u001b[1;32m    273\u001b[0m         \u001b[38;5;28;01mif\u001b[39;00m \u001b[38;5;124m'\u001b[39m\u001b[38;5;124mw\u001b[39m\u001b[38;5;124m'\u001b[39m \u001b[38;5;129;01min\u001b[39;00m mode:\n",
      "File \u001b[0;32m~/anaconda3/envs/Cosmos/lib/python3.9/site-packages/torch/serialization.py:252\u001b[0m, in \u001b[0;36m_open_file.__init__\u001b[0;34m(self, name, mode)\u001b[0m\n\u001b[1;32m    251\u001b[0m \u001b[38;5;28;01mdef\u001b[39;00m \u001b[38;5;21m__init__\u001b[39m(\u001b[38;5;28mself\u001b[39m, name, mode):\n\u001b[0;32m--> 252\u001b[0m     \u001b[38;5;28msuper\u001b[39m()\u001b[38;5;241m.\u001b[39m\u001b[38;5;21m__init__\u001b[39m(\u001b[38;5;28;43mopen\u001b[39;49m\u001b[43m(\u001b[49m\u001b[43mname\u001b[49m\u001b[43m,\u001b[49m\u001b[43m \u001b[49m\u001b[43mmode\u001b[49m\u001b[43m)\u001b[49m)\n",
      "\u001b[0;31mFileNotFoundError\u001b[0m: [Errno 2] No such file or directory: 'cmake-build-debug/testCPPLibrary/mask_double.pt'"
     ]
    }
   ],
   "source": [
    "import torch\n",
    "import numpy as np\n",
    "import matplotlib.pyplot as plt\n",
    "from mpl_toolkits.mplot3d import Axes3D\n",
    "\n",
    "# Load the tensor\n",
    "mask = torch.load(\"cmake-build-debug/testCPPLibrary/mask_double.pt\")\n",
    "\n",
    "# Convert the tensor to a NumPy array\n",
    "mask_np = mask.numpy()\n",
    "\n",
    "# Get the indices where mask is True\n",
    "x, y, z = np.where(mask_np)\n",
    "\n",
    "fig = plt.figure()\n",
    "ax = fig.add_subplot(111, projection='3d')\n",
    "\n",
    "# Plot the points\n",
    "ax.scatter(x, y, z)\n",
    "plt.show()\n"
   ]
  },
  {
   "cell_type": "code",
   "execution_count": null,
   "id": "5d9446cf",
   "metadata": {},
   "outputs": [],
   "source": []
  },
  {
   "cell_type": "code",
   "execution_count": null,
   "id": "5e9c1e46",
   "metadata": {},
   "outputs": [],
   "source": []
  }
 ],
 "metadata": {
  "kernelspec": {
   "display_name": "Python [conda env:Cosmos]",
   "language": "python",
   "name": "conda-env-Cosmos-py"
  },
  "language_info": {
   "codemirror_mode": {
    "name": "ipython",
    "version": 3
   },
   "file_extension": ".py",
   "mimetype": "text/x-python",
   "name": "python",
   "nbconvert_exporter": "python",
   "pygments_lexer": "ipython3",
   "version": "3.9.16"
  }
 },
 "nbformat": 4,
 "nbformat_minor": 5
}
