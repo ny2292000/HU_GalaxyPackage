{
 "cells": [
  {
   "cell_type": "code",
   "execution_count": 1,
   "id": "c176e989",
   "metadata": {},
   "outputs": [],
   "source": [
    "# !pip install git+https://github.com/jupyterhub/binderhub\n",
    "# !pip install https://github.com/jupyter/repo2docker/archive/master.zip"
   ]
  },
  {
   "cell_type": "markdown",
   "id": "63b5ae1d-8fca-4f5c-b590-b5e613456ca6",
   "metadata": {},
   "source": [
    "# ANGULAR SIZE VERSUS Z\n",
    "\n",
    "In HU, the distance is given by\n",
    "$d(z) = R_0 \\frac{z}{(1+z)}$\n",
    "\n",
    "the 4D radius is given by:\n",
    "$R(z) = R_0 \\frac{1}{(1+z)}$\n",
    "\n",
    "where $R_0$ = 14.01 GLY\n",
    "$G(t) = G_0\\frac{R_0}{R(z)}$\n",
    "\n",
    "$G = G_0 (1+z)$\n",
    "\n",
    "Using Newtonian Dynamics while reversing time (having the average galaxy moving back in time and through the 4D spatial manifold), we get:\n",
    "$G(z)\\frac{M}{r(z)^2} = \\frac{v(z)^2}{r(z)}$\n",
    "\n",
    "r(z)=$G(z)\\frac{M}{v(z)^2}=G_0 (1+z)\\frac{M}{v(z)^2}$\n",
    "\n",
    "Since the angular size of a galaxy is roughly r(z)/d(z)\n",
    "\n",
    "AngularSize= $G_0 (1+z)\\frac{M}{v(z)^2}/(R_0\\frac{z}{(1+z)})= \\frac{G_0M(1+z)^2}{R_0  z v(z)^2} \\propto \\frac{1}{z}$\n",
    "\n",
    "This means that v(z) =$ v_0(1+z)$ which implies that $r(z) = r_0/(1+z)$\n",
    "\n",
    "where $R_0$ is the current 4D radius (14.01 GLY), and $v_0$ is the current tangential velocity of a body in orbit.\n",
    "\n",
    "So, as G varies, the radius of the orbits varies, and velocity adjusts to keep angular momentum constant. The resulting angular size z-dependency is $\\frac{1}{z} $as depicted in Kapahi’s data.\n",
    "\n",
    "**NOTICE THAT THIS IS NOT A SMALL RESULT. I DERIVED THE Z-DEPENDENCY OF THE ANGULAR SIZE (AN OBSERVABLE) IN AN EPOCH-DEPENDENT G. THIS HAS NEVER BEEN DONE, AND IT SUPPORTS MY THEORY AND DEBUNKS GENERAL RELATIVITY.**\n",
    "\n",
    "**JWST'S OBSERVATION OF HUGE GALAXIES IS THE RESULT OF INCORRECT GALAXY SIZE PREDICTIONS AND DISTRIBUTION DUE TO RIEMMANIAN GEOMETRY: NO IFS OR BUTS.**\n"
   ]
  },
  {
   "cell_type": "code",
   "execution_count": 2,
   "id": "c01042d3",
   "metadata": {},
   "outputs": [
    {
     "data": {
      "application/vnd.jupyter.widget-view+json": {
       "model_id": "0cd71dcbb97948c187240f4789cc80da",
       "version_major": 2,
       "version_minor": 0
      },
      "text/plain": [
       "IntSlider(value=0, continuous_update=False, description='Redshift:', max=49)"
      ]
     },
     "metadata": {},
     "output_type": "display_data"
    },
    {
     "data": {
      "application/vnd.jupyter.widget-view+json": {
       "model_id": "d6f127433b864d4c9e9f216f09a08850",
       "version_major": 2,
       "version_minor": 0
      },
      "text/plain": [
       "Output()"
      ]
     },
     "metadata": {},
     "output_type": "display_data"
    }
   ],
   "source": [
    "import math\n",
    "import numpy as np\n",
    "import pandas as pd\n",
    "import xarray as xr\n",
    "import ipywidgets as widgets\n",
    "from timeit import default_timer as timer\n",
    "from IPython.display import display, HTML\n",
    "import matplotlib.pyplot as plt\n",
    "import matplotlib.gridspec as gridspec\n",
    "import matplotlib.animation as animation\n",
    "from matplotlib import cm\n",
    "from mpl_toolkits.mplot3d import Axes3D  # This import registers the 3D projection\n",
    "from matplotlib.animation import FuncAnimation\n",
    "import astropy.constants as cc\n",
    "import astropy.units as uu\n",
    "\n",
    "pd_masses = xr.open_dataarray('./data/pd_masses.nc').rename({'dim_0': 'radius', 'dim_1': 'elevation'})\n",
    "pd_r = pd.read_pickle(\"./data/pd_r.pkl\")\n",
    "pd_z = pd.read_pickle(\"./data/pd_z.pkl\")\n",
    "pd_dv0 = pd.read_pickle(\"./data/pd_dv0.pkl\")\n",
    "redshifts = pd.read_pickle(\"./data/redshifts.pkl\")\n",
    "\n",
    "def plot_2d_mass(z):\n",
    "    fig = plt.figure(figsize=(10, 8))\n",
    "    gs = gridspec.GridSpec(1, 2, width_ratios=[3, 1])\n",
    "    \n",
    "    R_0 = 14.01  # 4D radius of the Universe\n",
    "    z_0 = redshifts[0][z]  # the initial redshift\n",
    "    \n",
    "    # Create the 2D subplot\n",
    "    ax = plt.subplot(gs[0])\n",
    "    \n",
    "    # Create a symmetric X grid by concatenating the negative and positive r values\n",
    "    r_extended = np.concatenate((-pd_r[z][::-1], pd_r[z]))\n",
    "    dv0 = pd_dv0[z].values[:, None]  # reshapes from (120,) to (120,1)\n",
    "\n",
    "    \n",
    "    Y, X = np.meshgrid(pd_z[z]/1000, r_extended)  # Use pd_z for the vertical axis\n",
    "    Z = np.concatenate((np.flip(pd_masses[z].values/dv0, axis=0), pd_masses[z].values/dv0), axis=0)\n",
    "\n",
    "    contour = ax.contourf(X, Y, Z, cmap=cm.coolwarm)\n",
    "    ax.set_title(\"$M_{33}$ Luminous Density Profile\\n Redshift z = %.2f\" % z_0)\n",
    "    ax.set_xlabel('X (1000 Lyr)')\n",
    "    ax.set_ylabel('Z (1000 Lyr)')  # Change Y label to Z\n",
    "    ax.pcolormesh(X/1000, Y, Z, cmap=cm.coolwarm)\n",
    "\n",
    "    # Create the second subplot\n",
    "    ax = plt.subplot(gs[1], projection='polar')  # 1 row, 2 columns, second subplot\n",
    "    circle_outer = plt.Circle((0, 0), R_0, transform=ax.transData._b, fill = False)\n",
    "    circle_inner = plt.Circle((0, 0), R_0/(1+z_0), transform=ax.transData._b, fill = False, linestyle='dashed')\n",
    "    ax.add_artist(circle_outer)\n",
    "    ax.add_artist(circle_inner)\n",
    "\n",
    "    z_values = np.linspace(0, z_0, 100)\n",
    "    R_values = R_0/(1+z_values)\n",
    "    R_z0 =  R_0/(1+z_0)\n",
    "    angle_0 = 1 - 1/(1+z_0)\n",
    "    angle_values =  R_values/R_0\n",
    "    ax.plot(np.pi/2-angle_0, R_z0, 'ro')\n",
    "    ax.text(np.pi/2, R_0, 'Earth', horizontalalignment='right')\n",
    "    ax.text((np.pi/2-angle_0)*0.92, R_z0, '$M_{33}$', horizontalalignment='left')\n",
    "    ax.scatter(np.pi/2 - angle_0 + (R_values-R_z0)/R_0, R_values, color='b', s=0.5)\n",
    "    ax.set_rmax(R_0)\n",
    "    ax.set_rticks([])  # Less radial ticks\n",
    "    ax.set_rlabel_position(-24.5)  # Move radial labels away from plotted line\n",
    "    ax.grid(True)\n",
    "\n",
    "    ax.set_title(\"$M_{33}$ Ancient Photon's path across \\nthe Hyperspherical Universe\", va='bottom')\n",
    "    plt.subplots_adjust(wspace=0.3)\n",
    "    plt.show()\n",
    "\n",
    "z_slider = widgets.IntSlider(min=0, max=49, step=1, value=0, description='Redshift:', continuous_update=False)\n",
    "interactive_plot = widgets.interactive_output(plot_2d_mass, {'z': z_slider})\n",
    "display(z_slider, interactive_plot)\n",
    "\n"
   ]
  },
  {
   "cell_type": "code",
   "execution_count": 4,
   "id": "e0d57724",
   "metadata": {},
   "outputs": [
    {
     "data": {
      "text/plain": [
       "[<matplotlib.lines.Line2D at 0x7f00bd94f290>]"
      ]
     },
     "execution_count": 4,
     "metadata": {},
     "output_type": "execute_result"
    },
    {
     "data": {
      "image/png": "[encoded data removed]",
      "text/plain": [
       "<Figure size 640x480 with 1 Axes>"
      ]
     },
     "metadata": {},
     "output_type": "display_data"
    }
   ],
   "source": [
    "import astropy.constants as cc\n",
    "import astropy.units as uu\n",
    "total_mass_per_redshift = pd_masses.sum(dim=['elevation', 'radius'])/cc.M_sun\n",
    "plt.ylim(0,10E14)\n",
    "total_mass_per_redshift.plot()"
   ]
  },
  {
   "cell_type": "code",
   "execution_count": null,
   "id": "768f8c4b",
   "metadata": {},
   "outputs": [],
   "source": []
  },
  {
   "cell_type": "code",
   "execution_count": null,
   "id": "9ddabc26",
   "metadata": {},
   "outputs": [],
   "source": []
  }
 ],
 "metadata": {
  "kernelspec": {
   "display_name": "Python [conda env:Cosmos3019]",
   "language": "python",
   "name": "conda-env-Cosmos3019-py"
  },
  "language_info": {
   "codemirror_mode": {
    "name": "ipython",
    "version": 3
   },
   "file_extension": ".py",
   "mimetype": "text/x-python",
   "name": "python",
   "nbconvert_exporter": "python",
   "pygments_lexer": "ipython3",
   "version": "3.11.4"
  }
 },
 "nbformat": 4,
 "nbformat_minor": 5
}
