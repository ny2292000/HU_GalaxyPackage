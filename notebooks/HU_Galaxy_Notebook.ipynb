{
 "cells": [
  {
   "cell_type": "markdown",
   "id": "63b5ae1d-8fca-4f5c-b590-b5e613456ca6",
   "metadata": {},
   "source": [
    "In HU, the distance is given by\n",
    "$d(z) = R_0 \\frac{z}{(1+z)}$\n",
    "\n",
    "the 4D radius is given by:\n",
    "$R(z) = R_0 \\frac{1}{(1+z)}$\n",
    "\n",
    "where $R_0$ = 14.01 GLY\n",
    "$G(t) = G_0\\frac{R_0}{R(z)}$\n",
    "\n",
    "$G = G_0 (1+z)$\n",
    "\n",
    "Using Newtonian Dynamics while reversing time (having the average galaxy moving back in time and through the 4D spatial manifold), we get:\n",
    "$G(z)\\frac{M}{r(z)^2} = \\frac{v(z)^2}{r(z)}$\n",
    "\n",
    "r(z)=$G(z)\\frac{M}{v(z)^2}=G_0 (1+z)\\frac{M}{v(z)^2}$\n",
    "\n",
    "Since the angular size of a galaxy is roughly r(z)/d(z)\n",
    "\n",
    "AngularSize= $G_0 (1+z)\\frac{M}{v(z)^2}/(R_0\\frac{z}{(1+z)})= \\frac{G_0M(1+z)^2}{R_0  z v(z)^2} \\propto \\frac{1}{z}$\n",
    "\n",
    "This means that v(z) =$ v_0(1+z)$ which implies that $r(z) = r_0/(1+z)$\n",
    "\n",
    "where $R_0$ is the current 4D radius (14.01 GLY), and $v_0$ is the current tangential velocity of a body in orbit.\n",
    "\n",
    "So, as G varies, the radius of the orbits varies, and velocity adjusts to keep angular momentum constant. The resulting angular size z-dependency is $\\frac{1}{z} $as depicted in Kapahi’s data.\n",
    "\n",
    "**NOTICE THAT THIS IS NOT A SMALL RESULT. I DERIVED THE Z-DEPENDENCY OF THE ANGULAR SIZE (AN OBSERVABLE) IN AN EPOCH-DEPENDENT G. THIS HAS NEVER BEEN DONE, AND IT SUPPORTS MY THEORY AND DEBUNKS GENERAL RELATIVITY.**\n",
    "\n",
    "**JWST'S OBSERVATION OF HUGE GALAXIES IS THE RESULT OF INCORRECT GALAXY SIZE PREDICTIONS AND DISTRIBUTION DUE TO RIEMMANIAN GEOMETRY: NO IFS OR BUTS.**\n"
   ]
  },
  {
   "cell_type": "code",
   "execution_count": 1,
   "id": "496a5512",
   "metadata": {},
   "outputs": [],
   "source": [
    "import matplotlib\n",
    "matplotlib.use('TkAgg')  # Use the TkAgg backend (or another appropriate one)\n",
    "import matplotlib.pyplot as plt\n",
    "import numpy as np\n",
    "import math\n",
    "import pandas as pd\n",
    "from hugalaxy import  calculate_density_parameters\n",
    "from hugalaxy import GalaxyWrapper, plotRotationCurve, calculate_density_parameters\n",
    "from timeit import default_timer as timer"
   ]
  },
  {
   "cell_type": "code",
   "execution_count": 2,
   "id": "56d81c50",
   "metadata": {},
   "outputs": [],
   "source": [
    "####################################################\n",
    "# MODELING M33 GALAXY\n",
    "####################################################\n",
    "import time\n",
    "time.sleep(0)  # Sleep for 30 seconds\n",
    "\n",
    "# Rest of your script...\n",
    "\n",
    "\n",
    "m33_rotational_curve = np.array( [\n",
    "    [0.0, 0.0],\n",
    "    [1508.7187, 38.674137],\n",
    "    [2873.3889, 55.65067],\n",
    "    [4116.755, 67.91063],\n",
    "    [5451.099, 79.22689],\n",
    "    [6846.0957, 85.01734],\n",
    "    [8089.462, 88.38242],\n",
    "    [9393.48, 92.42116],\n",
    "    [10727.824, 95.11208],\n",
    "    [11880.212, 98.342697],\n",
    "    [13275.208, 99.82048],\n",
    "    [14609.553, 102.10709],\n",
    "    [18521.607, 104.25024],\n",
    "    [22403.336, 107.60643],\n",
    "    [26406.369, 115.40966],\n",
    "    [30379.076, 116.87875],\n",
    "    [34382.107, 116.05664],\n",
    "    [38354.813, 117.93005],\n",
    "    [42266.87, 121.42091],\n",
    "    [46300.227, 128.55017],\n",
    "    [50212.285, 132.84966]\n",
    "])\n",
    "\n",
    "M33_Distance = 3.2E6\n",
    "Radius_Universe_4D = 14.03E9\n",
    "redshift = M33_Distance / (Radius_Universe_4D - M33_Distance)\n",
    "nr = 200\n",
    "# NZ should always be ODD\n",
    "nz = 200\n",
    "ntheta = 180\n",
    "R_max = 50000.0\n",
    "\n",
    "rho_0, alpha_0, rho_1, alpha_1, h0 = calculate_density_parameters(redshift)\n",
    "GalaxyMass = 5E10\n",
    "# Create The Galaxy\n",
    "M33 = GalaxyWrapper(GalaxyMass, rho_0, alpha_0, rho_1, alpha_1, h0, R_max, nr,\n",
    "                    nz, ntheta, redshift,GPU_ID=0, cuda=True, taskflow=True)\n",
    "M33.read_galaxy_rotation_curve(m33_rotational_curve)\n",
    "M33.rho = M33.density_wrapper_internal()\n",
    "M33.v_simulated_points = M33.calculate_rotation_velocity_internal()\n",
    "plotRotationCurve(M33)"
   ]
  },
  {
   "cell_type": "code",
   "execution_count": 4,
   "id": "72c9c0d2",
   "metadata": {},
   "outputs": [
    {
     "ename": "RuntimeError",
     "evalue": "CUDA out of memory. Tried to allocate 3.22 GiB (GPU 0; 11.76 GiB total capacity; 9.67 GiB already allocated; 1.55 GiB free; 9.68 GiB reserved in total by PyTorch) If reserved memory is >> allocated memory try setting max_split_size_mb to avoid fragmentation.  See documentation for Memory Management and PYTORCH_CUDA_ALLOC_CONF\nException raised from malloc at ../c10/cuda/CUDACachingAllocator.cpp:913 (most recent call first):\nframe #0: c10::Error::Error(c10::SourceLocation, std::string) + 0x57 (0x7f5bcb37a4d7 in /home/mp74207/CLionProjects/HU_GalaxyPackage/venv/lib/python3.9/site-packages/torch/lib/libc10.so)\nframe #1: <unknown function> + 0x28015 (0x7f5bcb2db015 in /home/mp74207/CLionProjects/HU_GalaxyPackage/venv/lib/python3.9/site-packages/torch/lib/libc10_cuda.so)\nframe #2: <unknown function> + 0x2830e (0x7f5bcb2db30e in /home/mp74207/CLionProjects/HU_GalaxyPackage/venv/lib/python3.9/site-packages/torch/lib/libc10_cuda.so)\nframe #3: <unknown function> + 0x2869e (0x7f5bcb2db69e in /home/mp74207/CLionProjects/HU_GalaxyPackage/venv/lib/python3.9/site-packages/torch/lib/libc10_cuda.so)\nframe #4: <unknown function> + 0x186b0b1 (0x7f5bb366b0b1 in /home/mp74207/CLionProjects/HU_GalaxyPackage/venv/lib/python3.9/site-packages/torch/lib/libtorch_cpu.so)\nframe #5: at::detail::empty_generic(c10::ArrayRef<long>, c10::Allocator*, c10::DispatchKeySet, c10::ScalarType, c10::optional<c10::MemoryFormat>) + 0x14 (0x7f5bb3664af4 in /home/mp74207/CLionProjects/HU_GalaxyPackage/venv/lib/python3.9/site-packages/torch/lib/libtorch_cpu.so)\nframe #6: at::detail::empty_cuda(c10::ArrayRef<long>, c10::ScalarType, c10::optional<c10::Device>, c10::optional<c10::MemoryFormat>) + 0x111 (0x7f5b8c9fdaa1 in /home/mp74207/CLionProjects/HU_GalaxyPackage/venv/lib/python3.9/site-packages/torch/lib/libtorch_cuda.so)\nframe #7: at::detail::empty_cuda(c10::ArrayRef<long>, c10::optional<c10::ScalarType>, c10::optional<c10::Layout>, c10::optional<c10::Device>, c10::optional<bool>, c10::optional<c10::MemoryFormat>) + 0x31 (0x7f5b8c9fdd71 in /home/mp74207/CLionProjects/HU_GalaxyPackage/venv/lib/python3.9/site-packages/torch/lib/libtorch_cuda.so)\nframe #8: at::detail::empty_cuda(c10::ArrayRef<long>, c10::TensorOptions const&) + 0x10f (0x7f5b8c9fdedf in /home/mp74207/CLionProjects/HU_GalaxyPackage/venv/lib/python3.9/site-packages/torch/lib/libtorch_cuda.so)\nframe #9: <unknown function> + 0x2aed30b (0x7f5b8e6ed30b in /home/mp74207/CLionProjects/HU_GalaxyPackage/venv/lib/python3.9/site-packages/torch/lib/libtorch_cuda.so)\nframe #10: <unknown function> + 0x2be8662 (0x7f5b8e7e8662 in /home/mp74207/CLionProjects/HU_GalaxyPackage/venv/lib/python3.9/site-packages/torch/lib/libtorch_cuda.so)\nframe #11: at::TensorIteratorBase::allocate_or_resize_outputs() + 0x1ef (0x7f5bb36ff4df in /home/mp74207/CLionProjects/HU_GalaxyPackage/venv/lib/python3.9/site-packages/torch/lib/libtorch_cpu.so)\nframe #12: at::TensorIteratorBase::build(at::TensorIteratorConfig&) + 0x143 (0x7f5bb3702a13 in /home/mp74207/CLionProjects/HU_GalaxyPackage/venv/lib/python3.9/site-packages/torch/lib/libtorch_cpu.so)\nframe #13: at::TensorIteratorBase::build_borrowing_binary_op(at::TensorBase const&, at::TensorBase const&, at::TensorBase const&) + 0xb2 (0x7f5bb3703f22 in /home/mp74207/CLionProjects/HU_GalaxyPackage/venv/lib/python3.9/site-packages/torch/lib/libtorch_cpu.so)\nframe #14: <unknown function> + 0x2b8d75d (0x7f5b8e78d75d in /home/mp74207/CLionProjects/HU_GalaxyPackage/venv/lib/python3.9/site-packages/torch/lib/libtorch_cuda.so)\nframe #15: <unknown function> + 0x2b8d820 (0x7f5b8e78d820 in /home/mp74207/CLionProjects/HU_GalaxyPackage/venv/lib/python3.9/site-packages/torch/lib/libtorch_cuda.so)\nframe #16: at::_ops::mul_Tensor::redispatch(c10::DispatchKeySet, at::Tensor const&, at::Tensor const&) + 0x6e (0x7f5bb41f727e in /home/mp74207/CLionProjects/HU_GalaxyPackage/venv/lib/python3.9/site-packages/torch/lib/libtorch_cpu.so)\nframe #17: <unknown function> + 0x3f4656d (0x7f5bb5d4656d in /home/mp74207/CLionProjects/HU_GalaxyPackage/venv/lib/python3.9/site-packages/torch/lib/libtorch_cpu.so)\nframe #18: <unknown function> + 0x3f46ff3 (0x7f5bb5d46ff3 in /home/mp74207/CLionProjects/HU_GalaxyPackage/venv/lib/python3.9/site-packages/torch/lib/libtorch_cpu.so)\nframe #19: at::_ops::mul_Tensor::call(at::Tensor const&, at::Tensor const&) + 0x161 (0x7f5bb42548b1 in /home/mp74207/CLionProjects/HU_GalaxyPackage/venv/lib/python3.9/site-packages/torch/lib/libtorch_cpu.so)\nframe #20: <unknown function> + 0x3cabd (0x7f5bcb43eabd in /home/mp74207/anaconda3/envs/Cosmos/lib/python3.9/site-packages/hugalaxy/hugalaxy.cpython-39-x86_64-linux-gnu.so)\nframe #21: <unknown function> + 0x3f13d (0x7f5bcb44113d in /home/mp74207/anaconda3/envs/Cosmos/lib/python3.9/site-packages/hugalaxy/hugalaxy.cpython-39-x86_64-linux-gnu.so)\nframe #22: <unknown function> + 0x3ace6 (0x7f5bcb43cce6 in /home/mp74207/anaconda3/envs/Cosmos/lib/python3.9/site-packages/hugalaxy/hugalaxy.cpython-39-x86_64-linux-gnu.so)\nframe #23: <unknown function> + 0x2523a (0x7f5bcb42723a in /home/mp74207/anaconda3/envs/Cosmos/lib/python3.9/site-packages/hugalaxy/hugalaxy.cpython-39-x86_64-linux-gnu.so)\nframe #24: <unknown function> + 0x2c3d5 (0x7f5bcb42e3d5 in /home/mp74207/anaconda3/envs/Cosmos/lib/python3.9/site-packages/hugalaxy/hugalaxy.cpython-39-x86_64-linux-gnu.so)\nframe #25: <unknown function> + 0x1f0cf (0x7f5bcb4210cf in /home/mp74207/anaconda3/envs/Cosmos/lib/python3.9/site-packages/hugalaxy/hugalaxy.cpython-39-x86_64-linux-gnu.so)\nframe #26: <unknown function> + 0x149dc7 (0x555584416dc7 in /home/mp74207/anaconda3/envs/Cosmos/bin/python)\nframe #27: _PyObject_MakeTpCall + 0x2fc (0x5555843ff2bc in /home/mp74207/anaconda3/envs/Cosmos/bin/python)\nframe #28: <unknown function> + 0x147b84 (0x555584414b84 in /home/mp74207/anaconda3/envs/Cosmos/bin/python)\nframe #29: _PyEval_EvalFrameDefault + 0x4e17 (0x5555843fafa7 in /home/mp74207/anaconda3/envs/Cosmos/bin/python)\nframe #30: <unknown function> + 0x12827a (0x5555843f527a in /home/mp74207/anaconda3/envs/Cosmos/bin/python)\nframe #31: _PyEval_EvalCodeWithName + 0x47 (0x5555843f4f07 in /home/mp74207/anaconda3/envs/Cosmos/bin/python)\nframe #32: PyEval_EvalCodeEx + 0x39 (0x5555843f4eb9 in /home/mp74207/anaconda3/envs/Cosmos/bin/python)\nframe #33: PyEval_EvalCode + 0x1b (0x5555844a58bb in /home/mp74207/anaconda3/envs/Cosmos/bin/python)\nframe #34: <unknown function> + 0x1dd302 (0x5555844aa302 in /home/mp74207/anaconda3/envs/Cosmos/bin/python)\nframe #35: <unknown function> + 0x13a654 (0x555584407654 in /home/mp74207/anaconda3/envs/Cosmos/bin/python)\nframe #36: _PyEval_EvalFrameDefault + 0x3d8 (0x5555843f6568 in /home/mp74207/anaconda3/envs/Cosmos/bin/python)\nframe #37: <unknown function> + 0x14e70e (0x55558441b70e in /home/mp74207/anaconda3/envs/Cosmos/bin/python)\nframe #38: _PyEval_EvalFrameDefault + 0x6793 (0x5555843fc923 in /home/mp74207/anaconda3/envs/Cosmos/bin/python)\nframe #39: <unknown function> + 0x14e70e (0x55558441b70e in /home/mp74207/anaconda3/envs/Cosmos/bin/python)\nframe #40: _PyEval_EvalFrameDefault + 0x6793 (0x5555843fc923 in /home/mp74207/anaconda3/envs/Cosmos/bin/python)\nframe #41: <unknown function> + 0x14e70e (0x55558441b70e in /home/mp74207/anaconda3/envs/Cosmos/bin/python)\nframe #42: <unknown function> + 0x145b5d (0x555584412b5d in /home/mp74207/anaconda3/envs/Cosmos/bin/python)\nframe #43: _PyEval_EvalFrameDefault + 0x68b (0x5555843f681b in /home/mp74207/anaconda3/envs/Cosmos/bin/python)\nframe #44: <unknown function> + 0x139ef3 (0x555584406ef3 in /home/mp74207/anaconda3/envs/Cosmos/bin/python)\nframe #45: _PyEval_EvalFrameDefault + 0x3d8 (0x5555843f6568 in /home/mp74207/anaconda3/envs/Cosmos/bin/python)\nframe #46: <unknown function> + 0x139ef3 (0x555584406ef3 in /home/mp74207/anaconda3/envs/Cosmos/bin/python)\nframe #47: _PyEval_EvalFrameDefault + 0x68b (0x5555843f681b in /home/mp74207/anaconda3/envs/Cosmos/bin/python)\nframe #48: <unknown function> + 0x12827a (0x5555843f527a in /home/mp74207/anaconda3/envs/Cosmos/bin/python)\nframe #49: <unknown function> + 0x147935 (0x555584414935 in /home/mp74207/anaconda3/envs/Cosmos/bin/python)\nframe #50: PyObject_Call + 0xb4 (0x555584415104 in /home/mp74207/anaconda3/envs/Cosmos/bin/python)\nframe #51: _PyEval_EvalFrameDefault + 0x402b (0x5555843fa1bb in /home/mp74207/anaconda3/envs/Cosmos/bin/python)\nframe #52: <unknown function> + 0x12827a (0x5555843f527a in /home/mp74207/anaconda3/envs/Cosmos/bin/python)\nframe #53: <unknown function> + 0x147935 (0x555584414935 in /home/mp74207/anaconda3/envs/Cosmos/bin/python)\nframe #54: _PyEval_EvalFrameDefault + 0x123b (0x5555843f73cb in /home/mp74207/anaconda3/envs/Cosmos/bin/python)\nframe #55: <unknown function> + 0x14e70e (0x55558441b70e in /home/mp74207/anaconda3/envs/Cosmos/bin/python)\nframe #56: _PyEval_EvalFrameDefault + 0x6793 (0x5555843fc923 in /home/mp74207/anaconda3/envs/Cosmos/bin/python)\nframe #57: <unknown function> + 0x14e70e (0x55558441b70e in /home/mp74207/anaconda3/envs/Cosmos/bin/python)\nframe #58: _PyEval_EvalFrameDefault + 0x6793 (0x5555843fc923 in /home/mp74207/anaconda3/envs/Cosmos/bin/python)\nframe #59: <unknown function> + 0x14e70e (0x55558441b70e in /home/mp74207/anaconda3/envs/Cosmos/bin/python)\nframe #60: _PyEval_EvalFrameDefault + 0x6793 (0x5555843fc923 in /home/mp74207/anaconda3/envs/Cosmos/bin/python)\nframe #61: <unknown function> + 0x14e70e (0x55558441b70e in /home/mp74207/anaconda3/envs/Cosmos/bin/python)\nframe #62: _PyEval_EvalFrameDefault + 0x6793 (0x5555843fc923 in /home/mp74207/anaconda3/envs/Cosmos/bin/python)\nframe #63: <unknown function> + 0x14e70e (0x55558441b70e in /home/mp74207/anaconda3/envs/Cosmos/bin/python)\n",
     "output_type": "error",
     "traceback": [
      "\u001b[0;31m---------------------------------------------------------------------------\u001b[0m",
      "\u001b[0;31mRuntimeError\u001b[0m                              Traceback (most recent call last)",
      "Cell \u001b[0;32mIn[4], line 4\u001b[0m\n\u001b[1;32m      2\u001b[0m eta \u001b[38;5;241m=\u001b[39m \u001b[38;5;241m1\u001b[39m\u001b[38;5;241m/\u001b[39m\u001b[38;5;241m100\u001b[39m\n\u001b[1;32m      3\u001b[0m temperature \u001b[38;5;241m=\u001b[39m\u001b[38;5;241m7\u001b[39m\n\u001b[0;32m----> 4\u001b[0m current_masses \u001b[38;5;241m=\u001b[39m \u001b[43mM33\u001b[49m\u001b[38;5;241;43m.\u001b[39;49m\u001b[43mDrudePropagator\u001b[49m\u001b[43m(\u001b[49m\u001b[43m \u001b[49m\u001b[43mredshift\u001b[49m\u001b[43m,\u001b[49m\u001b[43m  \u001b[49m\u001b[43mtime_step_years\u001b[49m\u001b[43m,\u001b[49m\u001b[43m  \u001b[49m\u001b[43meta\u001b[49m\u001b[43m,\u001b[49m\u001b[43m  \u001b[49m\u001b[43mtemperature\u001b[49m\u001b[43m)\u001b[49m\n",
      "\u001b[0;31mRuntimeError\u001b[0m: CUDA out of memory. Tried to allocate 3.22 GiB (GPU 0; 11.76 GiB total capacity; 9.67 GiB already allocated; 1.55 GiB free; 9.68 GiB reserved in total by PyTorch) If reserved memory is >> allocated memory try setting max_split_size_mb to avoid fragmentation.  See documentation for Memory Management and PYTORCH_CUDA_ALLOC_CONF\nException raised from malloc at ../c10/cuda/CUDACachingAllocator.cpp:913 (most recent call first):\nframe #0: c10::Error::Error(c10::SourceLocation, std::string) + 0x57 (0x7f5bcb37a4d7 in /home/mp74207/CLionProjects/HU_GalaxyPackage/venv/lib/python3.9/site-packages/torch/lib/libc10.so)\nframe #1: <unknown function> + 0x28015 (0x7f5bcb2db015 in /home/mp74207/CLionProjects/HU_GalaxyPackage/venv/lib/python3.9/site-packages/torch/lib/libc10_cuda.so)\nframe #2: <unknown function> + 0x2830e (0x7f5bcb2db30e in /home/mp74207/CLionProjects/HU_GalaxyPackage/venv/lib/python3.9/site-packages/torch/lib/libc10_cuda.so)\nframe #3: <unknown function> + 0x2869e (0x7f5bcb2db69e in /home/mp74207/CLionProjects/HU_GalaxyPackage/venv/lib/python3.9/site-packages/torch/lib/libc10_cuda.so)\nframe #4: <unknown function> + 0x186b0b1 (0x7f5bb366b0b1 in /home/mp74207/CLionProjects/HU_GalaxyPackage/venv/lib/python3.9/site-packages/torch/lib/libtorch_cpu.so)\nframe #5: at::detail::empty_generic(c10::ArrayRef<long>, c10::Allocator*, c10::DispatchKeySet, c10::ScalarType, c10::optional<c10::MemoryFormat>) + 0x14 (0x7f5bb3664af4 in /home/mp74207/CLionProjects/HU_GalaxyPackage/venv/lib/python3.9/site-packages/torch/lib/libtorch_cpu.so)\nframe #6: at::detail::empty_cuda(c10::ArrayRef<long>, c10::ScalarType, c10::optional<c10::Device>, c10::optional<c10::MemoryFormat>) + 0x111 (0x7f5b8c9fdaa1 in /home/mp74207/CLionProjects/HU_GalaxyPackage/venv/lib/python3.9/site-packages/torch/lib/libtorch_cuda.so)\nframe #7: at::detail::empty_cuda(c10::ArrayRef<long>, c10::optional<c10::ScalarType>, c10::optional<c10::Layout>, c10::optional<c10::Device>, c10::optional<bool>, c10::optional<c10::MemoryFormat>) + 0x31 (0x7f5b8c9fdd71 in /home/mp74207/CLionProjects/HU_GalaxyPackage/venv/lib/python3.9/site-packages/torch/lib/libtorch_cuda.so)\nframe #8: at::detail::empty_cuda(c10::ArrayRef<long>, c10::TensorOptions const&) + 0x10f (0x7f5b8c9fdedf in /home/mp74207/CLionProjects/HU_GalaxyPackage/venv/lib/python3.9/site-packages/torch/lib/libtorch_cuda.so)\nframe #9: <unknown function> + 0x2aed30b (0x7f5b8e6ed30b in /home/mp74207/CLionProjects/HU_GalaxyPackage/venv/lib/python3.9/site-packages/torch/lib/libtorch_cuda.so)\nframe #10: <unknown function> + 0x2be8662 (0x7f5b8e7e8662 in /home/mp74207/CLionProjects/HU_GalaxyPackage/venv/lib/python3.9/site-packages/torch/lib/libtorch_cuda.so)\nframe #11: at::TensorIteratorBase::allocate_or_resize_outputs() + 0x1ef (0x7f5bb36ff4df in /home/mp74207/CLionProjects/HU_GalaxyPackage/venv/lib/python3.9/site-packages/torch/lib/libtorch_cpu.so)\nframe #12: at::TensorIteratorBase::build(at::TensorIteratorConfig&) + 0x143 (0x7f5bb3702a13 in /home/mp74207/CLionProjects/HU_GalaxyPackage/venv/lib/python3.9/site-packages/torch/lib/libtorch_cpu.so)\nframe #13: at::TensorIteratorBase::build_borrowing_binary_op(at::TensorBase const&, at::TensorBase const&, at::TensorBase const&) + 0xb2 (0x7f5bb3703f22 in /home/mp74207/CLionProjects/HU_GalaxyPackage/venv/lib/python3.9/site-packages/torch/lib/libtorch_cpu.so)\nframe #14: <unknown function> + 0x2b8d75d (0x7f5b8e78d75d in /home/mp74207/CLionProjects/HU_GalaxyPackage/venv/lib/python3.9/site-packages/torch/lib/libtorch_cuda.so)\nframe #15: <unknown function> + 0x2b8d820 (0x7f5b8e78d820 in /home/mp74207/CLionProjects/HU_GalaxyPackage/venv/lib/python3.9/site-packages/torch/lib/libtorch_cuda.so)\nframe #16: at::_ops::mul_Tensor::redispatch(c10::DispatchKeySet, at::Tensor const&, at::Tensor const&) + 0x6e (0x7f5bb41f727e in /home/mp74207/CLionProjects/HU_GalaxyPackage/venv/lib/python3.9/site-packages/torch/lib/libtorch_cpu.so)\nframe #17: <unknown function> + 0x3f4656d (0x7f5bb5d4656d in /home/mp74207/CLionProjects/HU_GalaxyPackage/venv/lib/python3.9/site-packages/torch/lib/libtorch_cpu.so)\nframe #18: <unknown function> + 0x3f46ff3 (0x7f5bb5d46ff3 in /home/mp74207/CLionProjects/HU_GalaxyPackage/venv/lib/python3.9/site-packages/torch/lib/libtorch_cpu.so)\nframe #19: at::_ops::mul_Tensor::call(at::Tensor const&, at::Tensor const&) + 0x161 (0x7f5bb42548b1 in /home/mp74207/CLionProjects/HU_GalaxyPackage/venv/lib/python3.9/site-packages/torch/lib/libtorch_cpu.so)\nframe #20: <unknown function> + 0x3cabd (0x7f5bcb43eabd in /home/mp74207/anaconda3/envs/Cosmos/lib/python3.9/site-packages/hugalaxy/hugalaxy.cpython-39-x86_64-linux-gnu.so)\nframe #21: <unknown function> + 0x3f13d (0x7f5bcb44113d in /home/mp74207/anaconda3/envs/Cosmos/lib/python3.9/site-packages/hugalaxy/hugalaxy.cpython-39-x86_64-linux-gnu.so)\nframe #22: <unknown function> + 0x3ace6 (0x7f5bcb43cce6 in /home/mp74207/anaconda3/envs/Cosmos/lib/python3.9/site-packages/hugalaxy/hugalaxy.cpython-39-x86_64-linux-gnu.so)\nframe #23: <unknown function> + 0x2523a (0x7f5bcb42723a in /home/mp74207/anaconda3/envs/Cosmos/lib/python3.9/site-packages/hugalaxy/hugalaxy.cpython-39-x86_64-linux-gnu.so)\nframe #24: <unknown function> + 0x2c3d5 (0x7f5bcb42e3d5 in /home/mp74207/anaconda3/envs/Cosmos/lib/python3.9/site-packages/hugalaxy/hugalaxy.cpython-39-x86_64-linux-gnu.so)\nframe #25: <unknown function> + 0x1f0cf (0x7f5bcb4210cf in /home/mp74207/anaconda3/envs/Cosmos/lib/python3.9/site-packages/hugalaxy/hugalaxy.cpython-39-x86_64-linux-gnu.so)\nframe #26: <unknown function> + 0x149dc7 (0x555584416dc7 in /home/mp74207/anaconda3/envs/Cosmos/bin/python)\nframe #27: _PyObject_MakeTpCall + 0x2fc (0x5555843ff2bc in /home/mp74207/anaconda3/envs/Cosmos/bin/python)\nframe #28: <unknown function> + 0x147b84 (0x555584414b84 in /home/mp74207/anaconda3/envs/Cosmos/bin/python)\nframe #29: _PyEval_EvalFrameDefault + 0x4e17 (0x5555843fafa7 in /home/mp74207/anaconda3/envs/Cosmos/bin/python)\nframe #30: <unknown function> + 0x12827a (0x5555843f527a in /home/mp74207/anaconda3/envs/Cosmos/bin/python)\nframe #31: _PyEval_EvalCodeWithName + 0x47 (0x5555843f4f07 in /home/mp74207/anaconda3/envs/Cosmos/bin/python)\nframe #32: PyEval_EvalCodeEx + 0x39 (0x5555843f4eb9 in /home/mp74207/anaconda3/envs/Cosmos/bin/python)\nframe #33: PyEval_EvalCode + 0x1b (0x5555844a58bb in /home/mp74207/anaconda3/envs/Cosmos/bin/python)\nframe #34: <unknown function> + 0x1dd302 (0x5555844aa302 in /home/mp74207/anaconda3/envs/Cosmos/bin/python)\nframe #35: <unknown function> + 0x13a654 (0x555584407654 in /home/mp74207/anaconda3/envs/Cosmos/bin/python)\nframe #36: _PyEval_EvalFrameDefault + 0x3d8 (0x5555843f6568 in /home/mp74207/anaconda3/envs/Cosmos/bin/python)\nframe #37: <unknown function> + 0x14e70e (0x55558441b70e in /home/mp74207/anaconda3/envs/Cosmos/bin/python)\nframe #38: _PyEval_EvalFrameDefault + 0x6793 (0x5555843fc923 in /home/mp74207/anaconda3/envs/Cosmos/bin/python)\nframe #39: <unknown function> + 0x14e70e (0x55558441b70e in /home/mp74207/anaconda3/envs/Cosmos/bin/python)\nframe #40: _PyEval_EvalFrameDefault + 0x6793 (0x5555843fc923 in /home/mp74207/anaconda3/envs/Cosmos/bin/python)\nframe #41: <unknown function> + 0x14e70e (0x55558441b70e in /home/mp74207/anaconda3/envs/Cosmos/bin/python)\nframe #42: <unknown function> + 0x145b5d (0x555584412b5d in /home/mp74207/anaconda3/envs/Cosmos/bin/python)\nframe #43: _PyEval_EvalFrameDefault + 0x68b (0x5555843f681b in /home/mp74207/anaconda3/envs/Cosmos/bin/python)\nframe #44: <unknown function> + 0x139ef3 (0x555584406ef3 in /home/mp74207/anaconda3/envs/Cosmos/bin/python)\nframe #45: _PyEval_EvalFrameDefault + 0x3d8 (0x5555843f6568 in /home/mp74207/anaconda3/envs/Cosmos/bin/python)\nframe #46: <unknown function> + 0x139ef3 (0x555584406ef3 in /home/mp74207/anaconda3/envs/Cosmos/bin/python)\nframe #47: _PyEval_EvalFrameDefault + 0x68b (0x5555843f681b in /home/mp74207/anaconda3/envs/Cosmos/bin/python)\nframe #48: <unknown function> + 0x12827a (0x5555843f527a in /home/mp74207/anaconda3/envs/Cosmos/bin/python)\nframe #49: <unknown function> + 0x147935 (0x555584414935 in /home/mp74207/anaconda3/envs/Cosmos/bin/python)\nframe #50: PyObject_Call + 0xb4 (0x555584415104 in /home/mp74207/anaconda3/envs/Cosmos/bin/python)\nframe #51: _PyEval_EvalFrameDefault + 0x402b (0x5555843fa1bb in /home/mp74207/anaconda3/envs/Cosmos/bin/python)\nframe #52: <unknown function> + 0x12827a (0x5555843f527a in /home/mp74207/anaconda3/envs/Cosmos/bin/python)\nframe #53: <unknown function> + 0x147935 (0x555584414935 in /home/mp74207/anaconda3/envs/Cosmos/bin/python)\nframe #54: _PyEval_EvalFrameDefault + 0x123b (0x5555843f73cb in /home/mp74207/anaconda3/envs/Cosmos/bin/python)\nframe #55: <unknown function> + 0x14e70e (0x55558441b70e in /home/mp74207/anaconda3/envs/Cosmos/bin/python)\nframe #56: _PyEval_EvalFrameDefault + 0x6793 (0x5555843fc923 in /home/mp74207/anaconda3/envs/Cosmos/bin/python)\nframe #57: <unknown function> + 0x14e70e (0x55558441b70e in /home/mp74207/anaconda3/envs/Cosmos/bin/python)\nframe #58: _PyEval_EvalFrameDefault + 0x6793 (0x5555843fc923 in /home/mp74207/anaconda3/envs/Cosmos/bin/python)\nframe #59: <unknown function> + 0x14e70e (0x55558441b70e in /home/mp74207/anaconda3/envs/Cosmos/bin/python)\nframe #60: _PyEval_EvalFrameDefault + 0x6793 (0x5555843fc923 in /home/mp74207/anaconda3/envs/Cosmos/bin/python)\nframe #61: <unknown function> + 0x14e70e (0x55558441b70e in /home/mp74207/anaconda3/envs/Cosmos/bin/python)\nframe #62: _PyEval_EvalFrameDefault + 0x6793 (0x5555843fc923 in /home/mp74207/anaconda3/envs/Cosmos/bin/python)\nframe #63: <unknown function> + 0x14e70e (0x55558441b70e in /home/mp74207/anaconda3/envs/Cosmos/bin/python)\n"
     ]
    }
   ],
   "source": [
    "time_step_years = 10E6\n",
    "eta = 1/100\n",
    "temperature =7\n",
    "current_masses = M33.DrudePropagator( redshift,  time_step_years,  eta,  temperature)"
   ]
  },
  {
   "cell_type": "code",
   "execution_count": 6,
   "id": "0440885f",
   "metadata": {},
   "outputs": [
    {
     "data": {
      "text/plain": [
       "array([0., 0., 0., 0., 0., 0., 0., 0., 0., 0., 0., 0., 0., 0., 0., 0., 0.,\n",
       "       0., 0., 0., 0.])"
      ]
     },
     "execution_count": 6,
     "metadata": {},
     "output_type": "execute_result"
    }
   ],
   "source": [
    "M33.v_simulated_points"
   ]
  },
  {
   "cell_type": "code",
   "execution_count": null,
   "id": "a3d230d9",
   "metadata": {},
   "outputs": [],
   "source": []
  },
  {
   "cell_type": "code",
   "execution_count": null,
   "id": "cad9ea1a",
   "metadata": {},
   "outputs": [],
   "source": []
  },
  {
   "cell_type": "code",
   "execution_count": null,
   "id": "c37a6627",
   "metadata": {},
   "outputs": [],
   "source": []
  },
  {
   "cell_type": "code",
   "execution_count": null,
   "id": "1f62f618",
   "metadata": {},
   "outputs": [],
   "source": []
  }
 ],
 "metadata": {
  "kernelspec": {
   "display_name": "Python [conda env:Cosmos]",
   "language": "python",
   "name": "conda-env-Cosmos-py"
  },
  "language_info": {
   "codemirror_mode": {
    "name": "ipython",
    "version": 3
   },
   "file_extension": ".py",
   "mimetype": "text/x-python",
   "name": "python",
   "nbconvert_exporter": "python",
   "pygments_lexer": "ipython3",
   "version": "3.9.16"
  }
 },
 "nbformat": 4,
 "nbformat_minor": 5
}
